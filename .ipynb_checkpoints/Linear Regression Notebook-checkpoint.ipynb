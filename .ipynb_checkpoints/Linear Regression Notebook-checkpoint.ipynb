{
 "cells": [
  {
   "cell_type": "markdown",
   "id": "779b8ad0-5f1a-4bb4-a08e-74b6c4dab44e",
   "metadata": {},
   "source": [
    "## Adult Income - Linear Regression"
   ]
  },
  {
   "cell_type": "code",
   "execution_count": null,
   "id": "784e4e2d-99f0-437c-9ec9-f29986550735",
   "metadata": {},
   "outputs": [],
   "source": [
    "! pip install pandas\n",
    "! pip install numpy\n",
    "! pip install sklearn \n",
    "! pip install matplotlib\n",
    "! pip install seaborn"
   ]
  },
  {
   "cell_type": "code",
   "execution_count": 1,
   "id": "3eddf53a-4cb4-43c2-b516-8ee45d1d23e3",
   "metadata": {},
   "outputs": [],
   "source": [
    "import pandas as pd\n",
    "from sklearn.linear_model import LinearRegression\n",
    "from sklearn.model_selection import train_test_split\n",
    "from sklearn.preprocessing import StandardScaler\n",
    "from sklearn.metrics import mean_squared_error,  mean_absolute_error\n",
    "from sklearn.linear_model import LinearRegression\n",
    "from sklearn import metrics\n",
    "import matplotlib.pyplot as plt\n",
    "import seaborn as sns\n",
    "import numpy as np\n",
    "from math import sqrt"
   ]
  },
  {
   "cell_type": "code",
   "execution_count": 6,
   "id": "bfb3ce32-054d-457e-885e-ae526f8aaeeb",
   "metadata": {},
   "outputs": [],
   "source": [
    "path = 'https://archive.ics.uci.edu/ml/machine-learning-databases/wine-quality/winequality-red.csv'\n",
    "df = pd.read_csv(path,\n",
    "                names = [\"fixed acidity\", \"volatile acidity\",\"citric acid\", \"residual sugar\",\"chlorides\",\"free sulfur dioxide\",\"total sulfur dioxide\",\"density\",\"pH\",\"sulphates\",\"alcohol\",\"quality\"],\n",
    "                sep=\";\")\n",
    "                \n"
   ]
  },
  {
   "cell_type": "code",
   "execution_count": 7,
   "id": "17782f2c-6c8a-4450-9d67-11ab90718022",
   "metadata": {},
   "outputs": [
    {
     "data": {
      "text/html": [
       "<div>\n",
       "<style scoped>\n",
       "    .dataframe tbody tr th:only-of-type {\n",
       "        vertical-align: middle;\n",
       "    }\n",
       "\n",
       "    .dataframe tbody tr th {\n",
       "        vertical-align: top;\n",
       "    }\n",
       "\n",
       "    .dataframe thead th {\n",
       "        text-align: right;\n",
       "    }\n",
       "</style>\n",
       "<table border=\"1\" class=\"dataframe\">\n",
       "  <thead>\n",
       "    <tr style=\"text-align: right;\">\n",
       "      <th></th>\n",
       "      <th>fixed acidity</th>\n",
       "      <th>volatile acidity</th>\n",
       "      <th>citric acid</th>\n",
       "      <th>residual sugar</th>\n",
       "      <th>chlorides</th>\n",
       "      <th>free sulfur dioxide</th>\n",
       "      <th>total sulfur dioxide</th>\n",
       "      <th>density</th>\n",
       "      <th>pH</th>\n",
       "      <th>sulphates</th>\n",
       "      <th>alcohol</th>\n",
       "      <th>quality</th>\n",
       "    </tr>\n",
       "  </thead>\n",
       "  <tbody>\n",
       "    <tr>\n",
       "      <th>0</th>\n",
       "      <td>fixed acidity</td>\n",
       "      <td>volatile acidity</td>\n",
       "      <td>citric acid</td>\n",
       "      <td>residual sugar</td>\n",
       "      <td>chlorides</td>\n",
       "      <td>free sulfur dioxide</td>\n",
       "      <td>total sulfur dioxide</td>\n",
       "      <td>density</td>\n",
       "      <td>pH</td>\n",
       "      <td>sulphates</td>\n",
       "      <td>alcohol</td>\n",
       "      <td>quality</td>\n",
       "    </tr>\n",
       "    <tr>\n",
       "      <th>1</th>\n",
       "      <td>7.4</td>\n",
       "      <td>0.7</td>\n",
       "      <td>0</td>\n",
       "      <td>1.9</td>\n",
       "      <td>0.076</td>\n",
       "      <td>11</td>\n",
       "      <td>34</td>\n",
       "      <td>0.9978</td>\n",
       "      <td>3.51</td>\n",
       "      <td>0.56</td>\n",
       "      <td>9.4</td>\n",
       "      <td>5</td>\n",
       "    </tr>\n",
       "    <tr>\n",
       "      <th>2</th>\n",
       "      <td>7.8</td>\n",
       "      <td>0.88</td>\n",
       "      <td>0</td>\n",
       "      <td>2.6</td>\n",
       "      <td>0.098</td>\n",
       "      <td>25</td>\n",
       "      <td>67</td>\n",
       "      <td>0.9968</td>\n",
       "      <td>3.2</td>\n",
       "      <td>0.68</td>\n",
       "      <td>9.8</td>\n",
       "      <td>5</td>\n",
       "    </tr>\n",
       "    <tr>\n",
       "      <th>3</th>\n",
       "      <td>7.8</td>\n",
       "      <td>0.76</td>\n",
       "      <td>0.04</td>\n",
       "      <td>2.3</td>\n",
       "      <td>0.092</td>\n",
       "      <td>15</td>\n",
       "      <td>54</td>\n",
       "      <td>0.997</td>\n",
       "      <td>3.26</td>\n",
       "      <td>0.65</td>\n",
       "      <td>9.8</td>\n",
       "      <td>5</td>\n",
       "    </tr>\n",
       "    <tr>\n",
       "      <th>4</th>\n",
       "      <td>11.2</td>\n",
       "      <td>0.28</td>\n",
       "      <td>0.56</td>\n",
       "      <td>1.9</td>\n",
       "      <td>0.075</td>\n",
       "      <td>17</td>\n",
       "      <td>60</td>\n",
       "      <td>0.998</td>\n",
       "      <td>3.16</td>\n",
       "      <td>0.58</td>\n",
       "      <td>9.8</td>\n",
       "      <td>6</td>\n",
       "    </tr>\n",
       "  </tbody>\n",
       "</table>\n",
       "</div>"
      ],
      "text/plain": [
       "   fixed acidity  volatile acidity  citric acid  residual sugar  chlorides  \\\n",
       "0  fixed acidity  volatile acidity  citric acid  residual sugar  chlorides   \n",
       "1            7.4               0.7            0             1.9      0.076   \n",
       "2            7.8              0.88            0             2.6      0.098   \n",
       "3            7.8              0.76         0.04             2.3      0.092   \n",
       "4           11.2              0.28         0.56             1.9      0.075   \n",
       "\n",
       "   free sulfur dioxide  total sulfur dioxide  density    pH  sulphates  \\\n",
       "0  free sulfur dioxide  total sulfur dioxide  density    pH  sulphates   \n",
       "1                   11                    34   0.9978  3.51       0.56   \n",
       "2                   25                    67   0.9968   3.2       0.68   \n",
       "3                   15                    54    0.997  3.26       0.65   \n",
       "4                   17                    60    0.998  3.16       0.58   \n",
       "\n",
       "   alcohol  quality  \n",
       "0  alcohol  quality  \n",
       "1      9.4        5  \n",
       "2      9.8        5  \n",
       "3      9.8        5  \n",
       "4      9.8        6  "
      ]
     },
     "execution_count": 7,
     "metadata": {},
     "output_type": "execute_result"
    }
   ],
   "source": [
    "df.head(5)"
   ]
  },
  {
   "cell_type": "code",
   "execution_count": 8,
   "id": "3d262b73-e520-4051-bf40-09f39dc3be91",
   "metadata": {},
   "outputs": [
    {
     "data": {
      "text/plain": [
       "(1600, 12)"
      ]
     },
     "execution_count": 8,
     "metadata": {},
     "output_type": "execute_result"
    }
   ],
   "source": [
    "df.shape"
   ]
  },
  {
   "cell_type": "code",
   "execution_count": 9,
   "id": "ff6825df-dc70-4905-a98e-54f781fe4dee",
   "metadata": {},
   "outputs": [
    {
     "data": {
      "text/html": [
       "<div>\n",
       "<style scoped>\n",
       "    .dataframe tbody tr th:only-of-type {\n",
       "        vertical-align: middle;\n",
       "    }\n",
       "\n",
       "    .dataframe tbody tr th {\n",
       "        vertical-align: top;\n",
       "    }\n",
       "\n",
       "    .dataframe thead th {\n",
       "        text-align: right;\n",
       "    }\n",
       "</style>\n",
       "<table border=\"1\" class=\"dataframe\">\n",
       "  <thead>\n",
       "    <tr style=\"text-align: right;\">\n",
       "      <th></th>\n",
       "      <th>fixed acidity</th>\n",
       "      <th>volatile acidity</th>\n",
       "      <th>citric acid</th>\n",
       "      <th>residual sugar</th>\n",
       "      <th>chlorides</th>\n",
       "      <th>free sulfur dioxide</th>\n",
       "      <th>total sulfur dioxide</th>\n",
       "      <th>density</th>\n",
       "      <th>pH</th>\n",
       "      <th>sulphates</th>\n",
       "      <th>alcohol</th>\n",
       "      <th>quality</th>\n",
       "    </tr>\n",
       "  </thead>\n",
       "  <tbody>\n",
       "    <tr>\n",
       "      <th>751</th>\n",
       "      <td>8.3</td>\n",
       "      <td>0.65</td>\n",
       "      <td>0.1</td>\n",
       "      <td>2.9</td>\n",
       "      <td>0.089</td>\n",
       "      <td>17</td>\n",
       "      <td>40</td>\n",
       "      <td>0.99803</td>\n",
       "      <td>3.29</td>\n",
       "      <td>0.55</td>\n",
       "      <td>9.5</td>\n",
       "      <td>5</td>\n",
       "    </tr>\n",
       "    <tr>\n",
       "      <th>719</th>\n",
       "      <td>8.4</td>\n",
       "      <td>0.56</td>\n",
       "      <td>0.04</td>\n",
       "      <td>2</td>\n",
       "      <td>0.082</td>\n",
       "      <td>10</td>\n",
       "      <td>22</td>\n",
       "      <td>0.9976</td>\n",
       "      <td>3.22</td>\n",
       "      <td>0.44</td>\n",
       "      <td>9.6</td>\n",
       "      <td>5</td>\n",
       "    </tr>\n",
       "    <tr>\n",
       "      <th>1339</th>\n",
       "      <td>6</td>\n",
       "      <td>0.5</td>\n",
       "      <td>0</td>\n",
       "      <td>1.4</td>\n",
       "      <td>0.057</td>\n",
       "      <td>15</td>\n",
       "      <td>26</td>\n",
       "      <td>0.99448</td>\n",
       "      <td>3.36</td>\n",
       "      <td>0.45</td>\n",
       "      <td>9.5</td>\n",
       "      <td>5</td>\n",
       "    </tr>\n",
       "    <tr>\n",
       "      <th>713</th>\n",
       "      <td>8.7</td>\n",
       "      <td>0.69</td>\n",
       "      <td>0</td>\n",
       "      <td>3.2</td>\n",
       "      <td>0.084</td>\n",
       "      <td>13</td>\n",
       "      <td>33</td>\n",
       "      <td>0.9992</td>\n",
       "      <td>3.36</td>\n",
       "      <td>0.45</td>\n",
       "      <td>9.4</td>\n",
       "      <td>5</td>\n",
       "    </tr>\n",
       "    <tr>\n",
       "      <th>1489</th>\n",
       "      <td>5.6</td>\n",
       "      <td>0.54</td>\n",
       "      <td>0.04</td>\n",
       "      <td>1.7</td>\n",
       "      <td>0.049</td>\n",
       "      <td>5</td>\n",
       "      <td>13</td>\n",
       "      <td>0.9942</td>\n",
       "      <td>3.72</td>\n",
       "      <td>0.58</td>\n",
       "      <td>11.4</td>\n",
       "      <td>5</td>\n",
       "    </tr>\n",
       "    <tr>\n",
       "      <th>1022</th>\n",
       "      <td>11.3</td>\n",
       "      <td>0.36</td>\n",
       "      <td>0.66</td>\n",
       "      <td>2.4</td>\n",
       "      <td>0.123</td>\n",
       "      <td>3</td>\n",
       "      <td>8</td>\n",
       "      <td>0.99642</td>\n",
       "      <td>3.2</td>\n",
       "      <td>0.53</td>\n",
       "      <td>11.9</td>\n",
       "      <td>6</td>\n",
       "    </tr>\n",
       "    <tr>\n",
       "      <th>1041</th>\n",
       "      <td>7.4</td>\n",
       "      <td>0.965</td>\n",
       "      <td>0</td>\n",
       "      <td>2.2</td>\n",
       "      <td>0.088</td>\n",
       "      <td>16</td>\n",
       "      <td>32</td>\n",
       "      <td>0.99756</td>\n",
       "      <td>3.58</td>\n",
       "      <td>0.67</td>\n",
       "      <td>10.2</td>\n",
       "      <td>5</td>\n",
       "    </tr>\n",
       "    <tr>\n",
       "      <th>894</th>\n",
       "      <td>7.2</td>\n",
       "      <td>0.66</td>\n",
       "      <td>0.03</td>\n",
       "      <td>2.3</td>\n",
       "      <td>0.078</td>\n",
       "      <td>16</td>\n",
       "      <td>86</td>\n",
       "      <td>0.99743</td>\n",
       "      <td>3.53</td>\n",
       "      <td>0.57</td>\n",
       "      <td>9.7</td>\n",
       "      <td>5</td>\n",
       "    </tr>\n",
       "    <tr>\n",
       "      <th>1395</th>\n",
       "      <td>6.4</td>\n",
       "      <td>0.57</td>\n",
       "      <td>0.14</td>\n",
       "      <td>3.9</td>\n",
       "      <td>0.07</td>\n",
       "      <td>27</td>\n",
       "      <td>73</td>\n",
       "      <td>0.99669</td>\n",
       "      <td>3.32</td>\n",
       "      <td>0.48</td>\n",
       "      <td>9.2</td>\n",
       "      <td>5</td>\n",
       "    </tr>\n",
       "    <tr>\n",
       "      <th>777</th>\n",
       "      <td>6.9</td>\n",
       "      <td>0.765</td>\n",
       "      <td>0.18</td>\n",
       "      <td>2.4</td>\n",
       "      <td>0.243</td>\n",
       "      <td>5.5</td>\n",
       "      <td>48</td>\n",
       "      <td>0.99612</td>\n",
       "      <td>3.4</td>\n",
       "      <td>0.6</td>\n",
       "      <td>10.3</td>\n",
       "      <td>6</td>\n",
       "    </tr>\n",
       "  </tbody>\n",
       "</table>\n",
       "</div>"
      ],
      "text/plain": [
       "     fixed acidity volatile acidity citric acid residual sugar chlorides  \\\n",
       "751            8.3             0.65         0.1            2.9     0.089   \n",
       "719            8.4             0.56        0.04              2     0.082   \n",
       "1339             6              0.5           0            1.4     0.057   \n",
       "713            8.7             0.69           0            3.2     0.084   \n",
       "1489           5.6             0.54        0.04            1.7     0.049   \n",
       "1022          11.3             0.36        0.66            2.4     0.123   \n",
       "1041           7.4            0.965           0            2.2     0.088   \n",
       "894            7.2             0.66        0.03            2.3     0.078   \n",
       "1395           6.4             0.57        0.14            3.9      0.07   \n",
       "777            6.9            0.765        0.18            2.4     0.243   \n",
       "\n",
       "     free sulfur dioxide total sulfur dioxide  density    pH sulphates  \\\n",
       "751                   17                   40  0.99803  3.29      0.55   \n",
       "719                   10                   22   0.9976  3.22      0.44   \n",
       "1339                  15                   26  0.99448  3.36      0.45   \n",
       "713                   13                   33   0.9992  3.36      0.45   \n",
       "1489                   5                   13   0.9942  3.72      0.58   \n",
       "1022                   3                    8  0.99642   3.2      0.53   \n",
       "1041                  16                   32  0.99756  3.58      0.67   \n",
       "894                   16                   86  0.99743  3.53      0.57   \n",
       "1395                  27                   73  0.99669  3.32      0.48   \n",
       "777                  5.5                   48  0.99612   3.4       0.6   \n",
       "\n",
       "     alcohol quality  \n",
       "751      9.5       5  \n",
       "719      9.6       5  \n",
       "1339     9.5       5  \n",
       "713      9.4       5  \n",
       "1489    11.4       5  \n",
       "1022    11.9       6  \n",
       "1041    10.2       5  \n",
       "894      9.7       5  \n",
       "1395     9.2       5  \n",
       "777     10.3       6  "
      ]
     },
     "execution_count": 9,
     "metadata": {},
     "output_type": "execute_result"
    }
   ],
   "source": [
    "df.sample(10)"
   ]
  },
  {
   "cell_type": "markdown",
   "id": "5142a090-2f0a-4f79-bf66-58b40f4b160c",
   "metadata": {},
   "source": [
    "### Exploratory Data Analysis"
   ]
  },
  {
   "cell_type": "code",
   "execution_count": 11,
   "id": "162f5798-051f-48c9-a720-118d39cde513",
   "metadata": {},
   "outputs": [
    {
     "data": {
      "text/plain": [
       "count     1600\n",
       "unique      97\n",
       "top        7.2\n",
       "freq        67\n",
       "Name: fixed acidity, dtype: object"
      ]
     },
     "execution_count": 11,
     "metadata": {},
     "output_type": "execute_result"
    }
   ],
   "source": [
    "df['fixed acidity'].describe()"
   ]
  },
  {
   "cell_type": "code",
   "execution_count": 12,
   "id": "c37da1f4-2df0-4faf-a8b1-8f956c5f4a16",
   "metadata": {},
   "outputs": [
    {
     "data": {
      "text/plain": [
       "count     1600\n",
       "unique     144\n",
       "top        0.6\n",
       "freq        47\n",
       "Name: volatile acidity, dtype: object"
      ]
     },
     "execution_count": 12,
     "metadata": {},
     "output_type": "execute_result"
    }
   ],
   "source": [
    "df['volatile acidity'].describe()"
   ]
  },
  {
   "cell_type": "code",
   "execution_count": 13,
   "id": "bceac3a2-d134-442b-8a57-d9ac3a0da814",
   "metadata": {},
   "outputs": [
    {
     "data": {
      "text/plain": [
       "fixed acidity           object\n",
       "volatile acidity        object\n",
       "citric acid             object\n",
       "residual sugar          object\n",
       "chlorides               object\n",
       "free sulfur dioxide     object\n",
       "total sulfur dioxide    object\n",
       "density                 object\n",
       "pH                      object\n",
       "sulphates               object\n",
       "alcohol                 object\n",
       "quality                 object\n",
       "dtype: object"
      ]
     },
     "execution_count": 13,
     "metadata": {},
     "output_type": "execute_result"
    }
   ],
   "source": [
    "df.dtypes"
   ]
  },
  {
   "cell_type": "code",
   "execution_count": 15,
   "id": "8be66823-5c5f-4fce-ba05-574a2c61759c",
   "metadata": {},
   "outputs": [],
   "source": [
    "df_columns = df.columns"
   ]
  },
  {
   "cell_type": "code",
   "execution_count": 16,
   "id": "dc13a49d-650d-47de-818e-b4a1dcae1e49",
   "metadata": {},
   "outputs": [],
   "source": [
    "df[df_columns] = df[df_columns].apply(pd.to_numeric, errors='coerce')"
   ]
  },
  {
   "cell_type": "code",
   "execution_count": 17,
   "id": "3175be58-5183-4434-8d97-14b77950767a",
   "metadata": {},
   "outputs": [
    {
     "data": {
      "text/plain": [
       "fixed acidity           float64\n",
       "volatile acidity        float64\n",
       "citric acid             float64\n",
       "residual sugar          float64\n",
       "chlorides               float64\n",
       "free sulfur dioxide     float64\n",
       "total sulfur dioxide    float64\n",
       "density                 float64\n",
       "pH                      float64\n",
       "sulphates               float64\n",
       "alcohol                 float64\n",
       "quality                 float64\n",
       "dtype: object"
      ]
     },
     "execution_count": 17,
     "metadata": {},
     "output_type": "execute_result"
    }
   ],
   "source": [
    "df.dtypes"
   ]
  },
  {
   "cell_type": "code",
   "execution_count": 18,
   "id": "137c8320-ccde-41b2-a5ae-dd99495a143e",
   "metadata": {},
   "outputs": [
    {
     "data": {
      "text/html": [
       "<div>\n",
       "<style scoped>\n",
       "    .dataframe tbody tr th:only-of-type {\n",
       "        vertical-align: middle;\n",
       "    }\n",
       "\n",
       "    .dataframe tbody tr th {\n",
       "        vertical-align: top;\n",
       "    }\n",
       "\n",
       "    .dataframe thead th {\n",
       "        text-align: right;\n",
       "    }\n",
       "</style>\n",
       "<table border=\"1\" class=\"dataframe\">\n",
       "  <thead>\n",
       "    <tr style=\"text-align: right;\">\n",
       "      <th></th>\n",
       "      <th>fixed acidity</th>\n",
       "      <th>volatile acidity</th>\n",
       "      <th>citric acid</th>\n",
       "      <th>residual sugar</th>\n",
       "      <th>chlorides</th>\n",
       "      <th>free sulfur dioxide</th>\n",
       "      <th>total sulfur dioxide</th>\n",
       "      <th>density</th>\n",
       "      <th>pH</th>\n",
       "      <th>sulphates</th>\n",
       "      <th>alcohol</th>\n",
       "      <th>quality</th>\n",
       "    </tr>\n",
       "  </thead>\n",
       "  <tbody>\n",
       "    <tr>\n",
       "      <th>1553</th>\n",
       "      <td>6.3</td>\n",
       "      <td>0.68</td>\n",
       "      <td>0.01</td>\n",
       "      <td>3.7</td>\n",
       "      <td>0.103</td>\n",
       "      <td>32.0</td>\n",
       "      <td>54.0</td>\n",
       "      <td>0.99586</td>\n",
       "      <td>3.51</td>\n",
       "      <td>0.66</td>\n",
       "      <td>11.3</td>\n",
       "      <td>6.0</td>\n",
       "    </tr>\n",
       "    <tr>\n",
       "      <th>1217</th>\n",
       "      <td>7.9</td>\n",
       "      <td>0.57</td>\n",
       "      <td>0.31</td>\n",
       "      <td>2.0</td>\n",
       "      <td>0.079</td>\n",
       "      <td>10.0</td>\n",
       "      <td>79.0</td>\n",
       "      <td>0.99677</td>\n",
       "      <td>3.29</td>\n",
       "      <td>0.69</td>\n",
       "      <td>9.5</td>\n",
       "      <td>6.0</td>\n",
       "    </tr>\n",
       "    <tr>\n",
       "      <th>876</th>\n",
       "      <td>8.8</td>\n",
       "      <td>0.31</td>\n",
       "      <td>0.40</td>\n",
       "      <td>2.8</td>\n",
       "      <td>0.109</td>\n",
       "      <td>7.0</td>\n",
       "      <td>16.0</td>\n",
       "      <td>0.99614</td>\n",
       "      <td>3.31</td>\n",
       "      <td>0.79</td>\n",
       "      <td>11.8</td>\n",
       "      <td>7.0</td>\n",
       "    </tr>\n",
       "    <tr>\n",
       "      <th>1066</th>\n",
       "      <td>7.7</td>\n",
       "      <td>0.61</td>\n",
       "      <td>0.18</td>\n",
       "      <td>2.4</td>\n",
       "      <td>0.083</td>\n",
       "      <td>6.0</td>\n",
       "      <td>20.0</td>\n",
       "      <td>0.99630</td>\n",
       "      <td>3.29</td>\n",
       "      <td>0.60</td>\n",
       "      <td>10.2</td>\n",
       "      <td>6.0</td>\n",
       "    </tr>\n",
       "    <tr>\n",
       "      <th>332</th>\n",
       "      <td>10.2</td>\n",
       "      <td>0.36</td>\n",
       "      <td>0.64</td>\n",
       "      <td>2.9</td>\n",
       "      <td>0.122</td>\n",
       "      <td>10.0</td>\n",
       "      <td>41.0</td>\n",
       "      <td>0.99800</td>\n",
       "      <td>3.23</td>\n",
       "      <td>0.66</td>\n",
       "      <td>12.5</td>\n",
       "      <td>6.0</td>\n",
       "    </tr>\n",
       "    <tr>\n",
       "      <th>920</th>\n",
       "      <td>8.4</td>\n",
       "      <td>0.62</td>\n",
       "      <td>0.12</td>\n",
       "      <td>1.8</td>\n",
       "      <td>0.072</td>\n",
       "      <td>38.0</td>\n",
       "      <td>46.0</td>\n",
       "      <td>0.99504</td>\n",
       "      <td>3.38</td>\n",
       "      <td>0.89</td>\n",
       "      <td>11.8</td>\n",
       "      <td>6.0</td>\n",
       "    </tr>\n",
       "    <tr>\n",
       "      <th>1117</th>\n",
       "      <td>7.0</td>\n",
       "      <td>0.69</td>\n",
       "      <td>0.07</td>\n",
       "      <td>2.5</td>\n",
       "      <td>0.091</td>\n",
       "      <td>15.0</td>\n",
       "      <td>21.0</td>\n",
       "      <td>0.99572</td>\n",
       "      <td>3.38</td>\n",
       "      <td>0.60</td>\n",
       "      <td>11.3</td>\n",
       "      <td>6.0</td>\n",
       "    </tr>\n",
       "    <tr>\n",
       "      <th>145</th>\n",
       "      <td>5.2</td>\n",
       "      <td>0.34</td>\n",
       "      <td>0.00</td>\n",
       "      <td>1.8</td>\n",
       "      <td>0.050</td>\n",
       "      <td>27.0</td>\n",
       "      <td>63.0</td>\n",
       "      <td>0.99160</td>\n",
       "      <td>3.68</td>\n",
       "      <td>0.79</td>\n",
       "      <td>14.0</td>\n",
       "      <td>6.0</td>\n",
       "    </tr>\n",
       "    <tr>\n",
       "      <th>734</th>\n",
       "      <td>7.0</td>\n",
       "      <td>0.45</td>\n",
       "      <td>0.34</td>\n",
       "      <td>2.7</td>\n",
       "      <td>0.082</td>\n",
       "      <td>16.0</td>\n",
       "      <td>72.0</td>\n",
       "      <td>0.99800</td>\n",
       "      <td>3.55</td>\n",
       "      <td>0.60</td>\n",
       "      <td>9.5</td>\n",
       "      <td>5.0</td>\n",
       "    </tr>\n",
       "    <tr>\n",
       "      <th>808</th>\n",
       "      <td>8.2</td>\n",
       "      <td>0.28</td>\n",
       "      <td>0.40</td>\n",
       "      <td>2.4</td>\n",
       "      <td>0.052</td>\n",
       "      <td>4.0</td>\n",
       "      <td>10.0</td>\n",
       "      <td>0.99356</td>\n",
       "      <td>3.33</td>\n",
       "      <td>0.70</td>\n",
       "      <td>12.8</td>\n",
       "      <td>7.0</td>\n",
       "    </tr>\n",
       "  </tbody>\n",
       "</table>\n",
       "</div>"
      ],
      "text/plain": [
       "      fixed acidity  volatile acidity  citric acid  residual sugar  chlorides  \\\n",
       "1553            6.3              0.68         0.01             3.7      0.103   \n",
       "1217            7.9              0.57         0.31             2.0      0.079   \n",
       "876             8.8              0.31         0.40             2.8      0.109   \n",
       "1066            7.7              0.61         0.18             2.4      0.083   \n",
       "332            10.2              0.36         0.64             2.9      0.122   \n",
       "920             8.4              0.62         0.12             1.8      0.072   \n",
       "1117            7.0              0.69         0.07             2.5      0.091   \n",
       "145             5.2              0.34         0.00             1.8      0.050   \n",
       "734             7.0              0.45         0.34             2.7      0.082   \n",
       "808             8.2              0.28         0.40             2.4      0.052   \n",
       "\n",
       "      free sulfur dioxide  total sulfur dioxide  density    pH  sulphates  \\\n",
       "1553                 32.0                  54.0  0.99586  3.51       0.66   \n",
       "1217                 10.0                  79.0  0.99677  3.29       0.69   \n",
       "876                   7.0                  16.0  0.99614  3.31       0.79   \n",
       "1066                  6.0                  20.0  0.99630  3.29       0.60   \n",
       "332                  10.0                  41.0  0.99800  3.23       0.66   \n",
       "920                  38.0                  46.0  0.99504  3.38       0.89   \n",
       "1117                 15.0                  21.0  0.99572  3.38       0.60   \n",
       "145                  27.0                  63.0  0.99160  3.68       0.79   \n",
       "734                  16.0                  72.0  0.99800  3.55       0.60   \n",
       "808                   4.0                  10.0  0.99356  3.33       0.70   \n",
       "\n",
       "      alcohol  quality  \n",
       "1553     11.3      6.0  \n",
       "1217      9.5      6.0  \n",
       "876      11.8      7.0  \n",
       "1066     10.2      6.0  \n",
       "332      12.5      6.0  \n",
       "920      11.8      6.0  \n",
       "1117     11.3      6.0  \n",
       "145      14.0      6.0  \n",
       "734       9.5      5.0  \n",
       "808      12.8      7.0  "
      ]
     },
     "execution_count": 18,
     "metadata": {},
     "output_type": "execute_result"
    }
   ],
   "source": [
    "df.sample(10)"
   ]
  },
  {
   "cell_type": "code",
   "execution_count": 27,
   "id": "efdec95d-9a0f-4f1b-bf1f-abeba7f59325",
   "metadata": {},
   "outputs": [],
   "source": [
    "df.dropna(axis=0,how='any',inplace=True)"
   ]
  },
  {
   "cell_type": "code",
   "execution_count": 28,
   "id": "02c8e951-d3ba-4097-a3ed-fb27617aed7b",
   "metadata": {},
   "outputs": [
    {
     "name": "stdout",
     "output_type": "stream",
     "text": [
      "fixed acidity           0\n",
      "volatile acidity        0\n",
      "citric acid             0\n",
      "residual sugar          0\n",
      "chlorides               0\n",
      "free sulfur dioxide     0\n",
      "total sulfur dioxide    0\n",
      "density                 0\n",
      "pH                      0\n",
      "sulphates               0\n",
      "alcohol                 0\n",
      "quality                 0\n",
      "dtype: int64\n"
     ]
    }
   ],
   "source": [
    "# Check for null values\n",
    "print(df.isnull().sum())"
   ]
  },
  {
   "cell_type": "code",
   "execution_count": null,
   "id": "35e16841-1ad7-4b90-8222-b8d7e2cf3185",
   "metadata": {},
   "outputs": [],
   "source": [
    "features = ['age','education-num','capital-gain','capital-loss','hours-per-week','40 or more hours',' Female',' Male',' Amer-Indian-Eskimo',' Asian-Pac-Islander',' Asian-Pac-Islander',' Black',' White',' Other']"
   ]
  },
  {
   "cell_type": "code",
   "execution_count": null,
   "id": "54d324d5-eed0-403e-9f03-808d513b3569",
   "metadata": {},
   "outputs": [],
   "source": [
    "# Initiate the scaler (create an instance of the sklearn class\n",
    "std_scaler = StandardScaler()\n",
    "std_scaler"
   ]
  },
  {
   "cell_type": "code",
   "execution_count": null,
   "id": "aab30f02-1d7e-4af8-8502-fccd99b420b2",
   "metadata": {},
   "outputs": [],
   "source": [
    "# Fit the scaler to our data\n",
    "scaled_results = std_scaler.fit_transform(df[features])\n",
    "scaled_results[:2]"
   ]
  },
  {
   "cell_type": "code",
   "execution_count": null,
   "id": "8627ff6d-158f-4d8d-9a5b-2f4abeaa5e22",
   "metadata": {},
   "outputs": [],
   "source": [
    "# convert those results into a dataframe\n",
    "scaled_df = pd.DataFrame(scaled_results, columns=features)\n",
    "scaled_df.head()"
   ]
  },
  {
   "cell_type": "code",
   "execution_count": null,
   "id": "c7e88c1c-261c-4505-b38c-cbb69daf82ff",
   "metadata": {},
   "outputs": [],
   "source": [
    "#Drop original columns and merge scaled df\n",
    "df = df.drop(features, axis=1)\n",
    "df = pd.concat([df, scaled_df], axis=1)\n",
    "df.sample(100)"
   ]
  },
  {
   "cell_type": "markdown",
   "id": "724b8bb8-86f1-48d2-bba4-5be9cd4062b0",
   "metadata": {},
   "source": [
    "### Model Building"
   ]
  },
  {
   "cell_type": "code",
   "execution_count": 29,
   "id": "50e55ae2-bf39-43da-afc0-bd40e80fb08e",
   "metadata": {},
   "outputs": [
    {
     "name": "stdout",
     "output_type": "stream",
     "text": [
      "(1599,) (1599, 11)\n"
     ]
    }
   ],
   "source": [
    "# Declare features and target\n",
    "features = [\"fixed acidity\", \"volatile acidity\",\"citric acid\", \"residual sugar\",\"chlorides\",\"free sulfur dioxide\",\"total sulfur dioxide\",\"density\",\"pH\",\"sulphates\",\"alcohol\"]\n",
    "y = df[\"quality\"]\n",
    "X = df[features]\n",
    "print(y.shape, X.shape)"
   ]
  },
  {
   "cell_type": "code",
   "execution_count": 30,
   "id": "dc1d2b9c-06a0-4358-87c5-63c80388a50c",
   "metadata": {},
   "outputs": [
    {
     "name": "stdout",
     "output_type": "stream",
     "text": [
      "(1279, 11)\n",
      "(1279,)\n",
      "(320, 11)\n",
      "(320,)\n"
     ]
    }
   ],
   "source": [
    "# Split data in test & train\n",
    "X_train, X_test, y_train, y_test = train_test_split(X, y,\n",
    "                                                    test_size=.2,\n",
    "                                                    random_state=24)\n",
    "print(X_train.shape)\n",
    "print(y_train.shape)\n",
    "print(X_test.shape)\n",
    "print(y_test.shape)"
   ]
  },
  {
   "cell_type": "markdown",
   "id": "f19e1f0c-683b-4123-bc79-7c00e150e9eb",
   "metadata": {},
   "source": [
    "### Select & Train a model"
   ]
  },
  {
   "cell_type": "code",
   "execution_count": 31,
   "id": "0ba7ecac-75d5-4bee-bbfb-c0c0f3a48a4d",
   "metadata": {},
   "outputs": [],
   "source": [
    "lin_reg = LinearRegression()"
   ]
  },
  {
   "cell_type": "code",
   "execution_count": 32,
   "id": "26f7b23f-4a7e-469d-99ef-64226d66e75a",
   "metadata": {},
   "outputs": [
    {
     "data": {
      "text/html": [
       "<style>#sk-container-id-1 {color: black;background-color: white;}#sk-container-id-1 pre{padding: 0;}#sk-container-id-1 div.sk-toggleable {background-color: white;}#sk-container-id-1 label.sk-toggleable__label {cursor: pointer;display: block;width: 100%;margin-bottom: 0;padding: 0.3em;box-sizing: border-box;text-align: center;}#sk-container-id-1 label.sk-toggleable__label-arrow:before {content: \"▸\";float: left;margin-right: 0.25em;color: #696969;}#sk-container-id-1 label.sk-toggleable__label-arrow:hover:before {color: black;}#sk-container-id-1 div.sk-estimator:hover label.sk-toggleable__label-arrow:before {color: black;}#sk-container-id-1 div.sk-toggleable__content {max-height: 0;max-width: 0;overflow: hidden;text-align: left;background-color: #f0f8ff;}#sk-container-id-1 div.sk-toggleable__content pre {margin: 0.2em;color: black;border-radius: 0.25em;background-color: #f0f8ff;}#sk-container-id-1 input.sk-toggleable__control:checked~div.sk-toggleable__content {max-height: 200px;max-width: 100%;overflow: auto;}#sk-container-id-1 input.sk-toggleable__control:checked~label.sk-toggleable__label-arrow:before {content: \"▾\";}#sk-container-id-1 div.sk-estimator input.sk-toggleable__control:checked~label.sk-toggleable__label {background-color: #d4ebff;}#sk-container-id-1 div.sk-label input.sk-toggleable__control:checked~label.sk-toggleable__label {background-color: #d4ebff;}#sk-container-id-1 input.sk-hidden--visually {border: 0;clip: rect(1px 1px 1px 1px);clip: rect(1px, 1px, 1px, 1px);height: 1px;margin: -1px;overflow: hidden;padding: 0;position: absolute;width: 1px;}#sk-container-id-1 div.sk-estimator {font-family: monospace;background-color: #f0f8ff;border: 1px dotted black;border-radius: 0.25em;box-sizing: border-box;margin-bottom: 0.5em;}#sk-container-id-1 div.sk-estimator:hover {background-color: #d4ebff;}#sk-container-id-1 div.sk-parallel-item::after {content: \"\";width: 100%;border-bottom: 1px solid gray;flex-grow: 1;}#sk-container-id-1 div.sk-label:hover label.sk-toggleable__label {background-color: #d4ebff;}#sk-container-id-1 div.sk-serial::before {content: \"\";position: absolute;border-left: 1px solid gray;box-sizing: border-box;top: 0;bottom: 0;left: 50%;z-index: 0;}#sk-container-id-1 div.sk-serial {display: flex;flex-direction: column;align-items: center;background-color: white;padding-right: 0.2em;padding-left: 0.2em;position: relative;}#sk-container-id-1 div.sk-item {position: relative;z-index: 1;}#sk-container-id-1 div.sk-parallel {display: flex;align-items: stretch;justify-content: center;background-color: white;position: relative;}#sk-container-id-1 div.sk-item::before, #sk-container-id-1 div.sk-parallel-item::before {content: \"\";position: absolute;border-left: 1px solid gray;box-sizing: border-box;top: 0;bottom: 0;left: 50%;z-index: -1;}#sk-container-id-1 div.sk-parallel-item {display: flex;flex-direction: column;z-index: 1;position: relative;background-color: white;}#sk-container-id-1 div.sk-parallel-item:first-child::after {align-self: flex-end;width: 50%;}#sk-container-id-1 div.sk-parallel-item:last-child::after {align-self: flex-start;width: 50%;}#sk-container-id-1 div.sk-parallel-item:only-child::after {width: 0;}#sk-container-id-1 div.sk-dashed-wrapped {border: 1px dashed gray;margin: 0 0.4em 0.5em 0.4em;box-sizing: border-box;padding-bottom: 0.4em;background-color: white;}#sk-container-id-1 div.sk-label label {font-family: monospace;font-weight: bold;display: inline-block;line-height: 1.2em;}#sk-container-id-1 div.sk-label-container {text-align: center;}#sk-container-id-1 div.sk-container {/* jupyter's `normalize.less` sets `[hidden] { display: none; }` but bootstrap.min.css set `[hidden] { display: none !important; }` so we also need the `!important` here to be able to override the default hidden behavior on the sphinx rendered scikit-learn.org. See: https://github.com/scikit-learn/scikit-learn/issues/21755 */display: inline-block !important;position: relative;}#sk-container-id-1 div.sk-text-repr-fallback {display: none;}</style><div id=\"sk-container-id-1\" class=\"sk-top-container\"><div class=\"sk-text-repr-fallback\"><pre>LinearRegression()</pre><b>In a Jupyter environment, please rerun this cell to show the HTML representation or trust the notebook. <br />On GitHub, the HTML representation is unable to render, please try loading this page with nbviewer.org.</b></div><div class=\"sk-container\" hidden><div class=\"sk-item\"><div class=\"sk-estimator sk-toggleable\"><input class=\"sk-toggleable__control sk-hidden--visually\" id=\"sk-estimator-id-1\" type=\"checkbox\" checked><label for=\"sk-estimator-id-1\" class=\"sk-toggleable__label sk-toggleable__label-arrow\">LinearRegression</label><div class=\"sk-toggleable__content\"><pre>LinearRegression()</pre></div></div></div></div></div>"
      ],
      "text/plain": [
       "LinearRegression()"
      ]
     },
     "execution_count": 32,
     "metadata": {},
     "output_type": "execute_result"
    }
   ],
   "source": [
    "lin_reg.fit(X_train, y_train)"
   ]
  },
  {
   "cell_type": "code",
   "execution_count": 33,
   "id": "c87a466c-2590-44db-b23a-cd8f94feeaf9",
   "metadata": {},
   "outputs": [
    {
     "data": {
      "text/plain": [
       "33.62934269555871"
      ]
     },
     "execution_count": 33,
     "metadata": {},
     "output_type": "execute_result"
    }
   ],
   "source": [
    "#Show intercept\n",
    "lin_reg.intercept_"
   ]
  },
  {
   "cell_type": "code",
   "execution_count": 34,
   "id": "8dc1625d-d70b-4871-9f95-84577b2057e4",
   "metadata": {},
   "outputs": [
    {
     "data": {
      "text/plain": [
       "array([ 4.07292700e-02, -1.11167778e+00, -2.60019466e-01,  2.40762132e-02,\n",
       "       -1.68605517e+00,  3.08819430e-03, -2.67203229e-03, -3.00522008e+01,\n",
       "       -3.62621312e-01,  8.67144881e-01,  2.94517663e-01])"
      ]
     },
     "execution_count": 34,
     "metadata": {},
     "output_type": "execute_result"
    }
   ],
   "source": [
    "lin_reg.coef_"
   ]
  },
  {
   "cell_type": "code",
   "execution_count": 35,
   "id": "407b593c-700a-4839-bae1-51201c968bb3",
   "metadata": {},
   "outputs": [
    {
     "data": {
      "text/html": [
       "<div>\n",
       "<style scoped>\n",
       "    .dataframe tbody tr th:only-of-type {\n",
       "        vertical-align: middle;\n",
       "    }\n",
       "\n",
       "    .dataframe tbody tr th {\n",
       "        vertical-align: top;\n",
       "    }\n",
       "\n",
       "    .dataframe thead th {\n",
       "        text-align: right;\n",
       "    }\n",
       "</style>\n",
       "<table border=\"1\" class=\"dataframe\">\n",
       "  <thead>\n",
       "    <tr style=\"text-align: right;\">\n",
       "      <th></th>\n",
       "      <th>coefficients</th>\n",
       "    </tr>\n",
       "  </thead>\n",
       "  <tbody>\n",
       "    <tr>\n",
       "      <th>intercept</th>\n",
       "      <td>33</td>\n",
       "    </tr>\n",
       "    <tr>\n",
       "      <th>fixed acidity</th>\n",
       "      <td>0</td>\n",
       "    </tr>\n",
       "    <tr>\n",
       "      <th>volatile acidity</th>\n",
       "      <td>-1</td>\n",
       "    </tr>\n",
       "    <tr>\n",
       "      <th>citric acid</th>\n",
       "      <td>0</td>\n",
       "    </tr>\n",
       "    <tr>\n",
       "      <th>residual sugar</th>\n",
       "      <td>0</td>\n",
       "    </tr>\n",
       "    <tr>\n",
       "      <th>chlorides</th>\n",
       "      <td>-1</td>\n",
       "    </tr>\n",
       "    <tr>\n",
       "      <th>free sulfur dioxide</th>\n",
       "      <td>0</td>\n",
       "    </tr>\n",
       "    <tr>\n",
       "      <th>total sulfur dioxide</th>\n",
       "      <td>0</td>\n",
       "    </tr>\n",
       "    <tr>\n",
       "      <th>density</th>\n",
       "      <td>-30</td>\n",
       "    </tr>\n",
       "    <tr>\n",
       "      <th>pH</th>\n",
       "      <td>0</td>\n",
       "    </tr>\n",
       "    <tr>\n",
       "      <th>sulphates</th>\n",
       "      <td>0</td>\n",
       "    </tr>\n",
       "    <tr>\n",
       "      <th>alcohol</th>\n",
       "      <td>0</td>\n",
       "    </tr>\n",
       "  </tbody>\n",
       "</table>\n",
       "</div>"
      ],
      "text/plain": [
       "                      coefficients\n",
       "intercept                       33\n",
       "fixed acidity                    0\n",
       "volatile acidity                -1\n",
       "citric acid                      0\n",
       "residual sugar                   0\n",
       "chlorides                       -1\n",
       "free sulfur dioxide              0\n",
       "total sulfur dioxide             0\n",
       "density                        -30\n",
       "pH                               0\n",
       "sulphates                        0\n",
       "alcohol                          0"
      ]
     },
     "execution_count": 35,
     "metadata": {},
     "output_type": "execute_result"
    }
   ],
   "source": [
    "# Display intercept and coefficients as a dataframe\n",
    "cols=list(X_train.columns)\n",
    "coefs=list(lin_reg.coef_)\n",
    "coefs=[int(x) for x in coefs]\n",
    "# add the intercept\n",
    "cols.insert(0, \"intercept\")\n",
    "coefs.insert(0, int(lin_reg.intercept_))\n",
    "# combine into a dataframe\n",
    "regression_components = pd.DataFrame(coefs, cols, columns=['coefficients'])\n",
    "regression_components "
   ]
  },
  {
   "cell_type": "code",
   "execution_count": 36,
   "id": "69d577dd-f242-4650-b148-d575bf88890c",
   "metadata": {},
   "outputs": [
    {
     "name": "stdout",
     "output_type": "stream",
     "text": [
      "Regression Equation:  \n",
      " y =  33.63 + \n",
      "                33*intercept + \n",
      "                0*fixed acidity + \n",
      "                -1*volatile acidity + \n",
      "                0*citric acid + \n",
      "                0*residual sugar + \n",
      "                -1*chlorides + \n",
      "                0*free sulfur dioxide + \n",
      "                0*total sulfur dioxide + \n",
      "                -30*density +\n",
      "                0*pH + \n",
      "                0*sulphates + \n",
      "                0*alcohol \n",
      "                \n"
     ]
    }
   ],
   "source": [
    "# what is the equation for this model?\n",
    "\n",
    "xcoefs = [(coefs[i], cols[i]) for i in range(0, len(cols))]\n",
    "\n",
    "output = f\"\"\"y =  {round(lin_reg.intercept_,2)} + \n",
    "                {round(xcoefs[0][0],2)}*{xcoefs[0][1]} + \n",
    "                {round(xcoefs[1][0],2)}*{xcoefs[1][1]} + \n",
    "                {round(xcoefs[2][0],2)}*{xcoefs[2][1]} + \n",
    "                {round(xcoefs[3][0],2)}*{xcoefs[3][1]} + \n",
    "                {round(xcoefs[4][0],2)}*{xcoefs[4][1]} + \n",
    "                {round(xcoefs[5][0],2)}*{xcoefs[5][1]} + \n",
    "                {round(xcoefs[6][0],2)}*{xcoefs[6][1]} + \n",
    "                {round(xcoefs[7][0],2)}*{xcoefs[7][1]} + \n",
    "                {round(xcoefs[8][0],2)}*{xcoefs[8][1]} +\n",
    "                {round(xcoefs[9][0],2)}*{xcoefs[9][1]} + \n",
    "                {round(xcoefs[10][0],2)}*{xcoefs[10][1]} + \n",
    "                {round(xcoefs[11][0],2)}*{xcoefs[11][1]} \n",
    "                \"\"\"\n",
    "print(\"Regression Equation: \", \"\\n\", output)  "
   ]
  },
  {
   "cell_type": "markdown",
   "id": "e003aefd-1945-4d83-964a-e659e359c610",
   "metadata": {},
   "source": [
    "### Make predictions on your testing dataset"
   ]
  },
  {
   "cell_type": "code",
   "execution_count": 37,
   "id": "42005d52-0773-4bae-83ef-cb82ad71f2b8",
   "metadata": {},
   "outputs": [],
   "source": [
    "# Make predictions\n",
    "y_preds = lin_reg.predict(X_test)"
   ]
  },
  {
   "cell_type": "code",
   "execution_count": 38,
   "id": "79071a8e-916d-496e-a359-b5909b6c8f69",
   "metadata": {},
   "outputs": [
    {
     "data": {
      "text/plain": [
       "array([5.14933188, 5.96709822, 5.94052424, 5.23137739, 6.11681712,\n",
       "       5.49770774, 5.48628861, 5.21151114, 5.41868617, 6.19132753,\n",
       "       5.34950162, 4.78937821, 5.71980622, 5.72580923, 5.9134713 ,\n",
       "       6.18686275, 6.57265905, 6.39472178, 4.96724813, 5.14684865,\n",
       "       5.24280398, 5.13575522, 5.93392333, 5.42213585, 5.19790174,\n",
       "       5.01949875, 6.38015386, 6.01394555, 5.10400794, 6.23104733,\n",
       "       6.11174074, 5.06581393, 5.28245617, 5.19121591, 6.24985542,\n",
       "       6.3648989 , 5.39790504, 5.58696489, 6.36518617, 5.81065437,\n",
       "       6.94049814, 5.29895075, 5.24509868, 5.36292897, 5.11528638,\n",
       "       5.72660005, 5.56651667, 6.57234084, 6.01058936, 5.39134566,\n",
       "       6.11665139, 6.33721972, 6.24782196, 6.06647066, 5.60449905,\n",
       "       5.28163726, 5.47066229, 6.00915473, 5.69169692, 5.08979064,\n",
       "       6.47090709, 5.91872315, 5.08099354, 5.23375457, 5.79912687,\n",
       "       5.479537  , 5.7048336 , 6.08425846, 5.79993154, 5.11775984,\n",
       "       5.43523379, 4.98793291, 6.04491903, 5.8321798 , 6.24684383,\n",
       "       5.06162671, 4.9062733 , 5.97020847, 5.2570711 , 6.56333781,\n",
       "       5.76280655, 5.94636197, 4.66979323, 5.33629297, 5.4790654 ,\n",
       "       5.81987997, 5.72182693, 5.45709822, 5.60563191, 5.96495667,\n",
       "       6.2012195 , 5.22214292, 5.86809352, 5.21040489, 5.31361391,\n",
       "       5.13435276, 5.61343738, 6.10788519, 6.0492483 , 6.23475624,\n",
       "       6.2004898 , 5.16794591, 6.5349439 , 5.1230475 , 5.92005428,\n",
       "       6.25041048, 5.02385505, 5.13121796, 5.60141249, 6.38276281,\n",
       "       6.01803639, 5.13579011, 5.23931622, 5.41909773, 5.11776817,\n",
       "       7.66068556, 5.83831598, 5.62127282, 5.58533302, 6.66671559,\n",
       "       5.70930599, 5.04619674, 6.0802703 , 6.22054646, 5.41339517,\n",
       "       5.33534758, 5.68717342, 5.00259057, 5.70423999, 5.69751332,\n",
       "       5.83172947, 5.17262939, 4.90409567, 5.75011983, 5.3351373 ,\n",
       "       5.12066708, 5.32182013, 5.23294063, 4.61783174, 5.45976984,\n",
       "       5.42242142, 5.74143725, 6.19205334, 5.43967338, 6.36025813,\n",
       "       6.69263332, 5.25712827, 5.06929043, 5.24509868, 5.32194564,\n",
       "       5.60096607, 6.02815324, 5.89015263, 6.22304962, 5.86671543,\n",
       "       6.59523946, 6.25970336, 5.36450146, 5.39299469, 5.36930515,\n",
       "       5.13329129, 5.41257565, 4.98963875, 5.80679979, 5.84895183,\n",
       "       6.40293198, 5.63126938, 5.78148534, 5.20866693, 5.80776861,\n",
       "       4.93806449, 6.23475624, 5.44293512, 6.78895857, 6.49324945,\n",
       "       5.12448882, 5.74116453, 5.74818131, 6.0638626 , 5.70517509,\n",
       "       5.90524998, 4.75965009, 5.82643486, 6.17333875, 5.02188709,\n",
       "       6.21969644, 5.69133525, 6.05364805, 5.11846763, 6.3635881 ,\n",
       "       5.17103142, 5.7252574 , 5.59755559, 5.65067823, 5.69285466,\n",
       "       5.76654405, 5.10307075, 6.11681712, 6.48979302, 6.1045548 ,\n",
       "       5.02804624, 5.46334926, 5.41678033, 5.17886421, 5.9842096 ,\n",
       "       5.41257194, 5.05269453, 5.59069753, 5.24794829, 6.54842788,\n",
       "       5.73663268, 6.23690133, 6.29427244, 6.02520697, 5.31054911,\n",
       "       6.73800303, 5.03863022, 5.43254512, 6.23558156, 5.01171871,\n",
       "       5.52165746, 5.20633578, 5.63141179, 5.93296651, 6.02315887,\n",
       "       5.45391537, 5.91349879, 5.07169737, 6.04625158, 5.25707639,\n",
       "       4.78943146, 6.18646264, 6.05237772, 5.21030461, 5.0395928 ,\n",
       "       5.94874339, 6.08451862, 5.50165136, 5.35860241, 5.20631429,\n",
       "       6.36582936, 5.06016898, 6.14853778, 6.70575299, 5.36683873,\n",
       "       5.34766115, 5.93679337, 5.25723105, 5.71719214, 6.64902568,\n",
       "       5.66496479, 5.16502945, 5.20770078, 5.74487054, 5.62476751,\n",
       "       5.37860964, 5.35927425, 5.46597694, 5.83010113, 6.01120279,\n",
       "       5.80148928, 5.29628323, 4.89506693, 5.32505061, 5.7048336 ,\n",
       "       5.27355007, 4.97890865, 5.22899049, 5.6971265 , 6.27148128,\n",
       "       6.42080965, 5.15936988, 5.19780001, 6.44040124, 5.68143092,\n",
       "       6.40409676, 4.82896229, 5.01324633, 6.5540074 , 5.14946885,\n",
       "       5.17300864, 5.60629331, 5.05269453, 6.56488738, 6.12851958,\n",
       "       5.7252574 , 5.63126938, 5.6410389 , 6.10251241, 5.8808866 ,\n",
       "       6.02474059, 5.38542596, 6.34615517, 5.2231603 , 5.08136636,\n",
       "       5.4719609 , 6.60856693, 5.03880882, 5.78733396, 5.83382208,\n",
       "       5.83808989, 5.74116453, 5.85400319, 6.0567009 , 6.25561176,\n",
       "       5.73587977, 5.84821248, 6.55064368, 5.29744854, 4.93579311,\n",
       "       5.19121591, 5.55110344, 4.77742795, 5.42631118, 5.92592477,\n",
       "       5.32924322, 5.25967334, 5.69049995, 5.35358479, 5.00942789])"
      ]
     },
     "execution_count": 38,
     "metadata": {},
     "output_type": "execute_result"
    }
   ],
   "source": [
    "y_preds"
   ]
  },
  {
   "cell_type": "code",
   "execution_count": 39,
   "id": "20f848d2-babe-4a3b-b997-2f8097b89127",
   "metadata": {},
   "outputs": [
    {
     "name": "stdout",
     "output_type": "stream",
     "text": [
      "true values: [5.0, 6.0, 6.0, 5.0, 7.0]\n",
      "predicted values: [5.1, 6.0, 5.9, 5.2, 6.1]\n"
     ]
    }
   ],
   "source": [
    "# How do the first five predictions compare to the first five actual values?\n",
    "true_5=list(round(y_test[:5], 1))\n",
    "pred_5=[round(x,1) for x in list(y_preds[:5])]\n",
    "print('true values:', true_5)\n",
    "print('predicted values:', pred_5)"
   ]
  },
  {
   "cell_type": "code",
   "execution_count": 40,
   "id": "6e0af1b8-b450-41c5-a50f-30026ca2ae23",
   "metadata": {},
   "outputs": [
    {
     "name": "stdout",
     "output_type": "stream",
     "text": [
      "Index(['fixed acidity', 'volatile acidity', 'citric acid', 'residual sugar',\n",
      "       'chlorides', 'free sulfur dioxide', 'total sulfur dioxide', 'density',\n",
      "       'pH', 'sulphates', 'alcohol'],\n",
      "      dtype='object')\n",
      "[ 4.07292700e-02 -1.11167778e+00 -2.60019466e-01  2.40762132e-02\n",
      " -1.68605517e+00  3.08819430e-03 -2.67203229e-03 -3.00522008e+01\n",
      " -3.62621312e-01  8.67144881e-01  2.94517663e-01]\n"
     ]
    }
   ],
   "source": [
    "# 'Attributes' is another name for our list of features (aka predictors, independent variables)\n",
    "attributes=X_test.columns\n",
    "print(attributes)\n",
    "# 'Feature importances' is another name for our coefficients (ie., the impace of each feature on the outcome or DV)\n",
    "feature_importances=lin_reg.coef_\n",
    "print(feature_importances)"
   ]
  },
  {
   "cell_type": "code",
   "execution_count": 41,
   "id": "6bbeb00b-2360-464f-81d7-a80b78591ade",
   "metadata": {},
   "outputs": [
    {
     "data": {
      "text/html": [
       "<div>\n",
       "<style scoped>\n",
       "    .dataframe tbody tr th:only-of-type {\n",
       "        vertical-align: middle;\n",
       "    }\n",
       "\n",
       "    .dataframe tbody tr th {\n",
       "        vertical-align: top;\n",
       "    }\n",
       "\n",
       "    .dataframe thead th {\n",
       "        text-align: right;\n",
       "    }\n",
       "</style>\n",
       "<table border=\"1\" class=\"dataframe\">\n",
       "  <thead>\n",
       "    <tr style=\"text-align: right;\">\n",
       "      <th></th>\n",
       "      <th>coeffs</th>\n",
       "    </tr>\n",
       "    <tr>\n",
       "      <th>features</th>\n",
       "      <th></th>\n",
       "    </tr>\n",
       "  </thead>\n",
       "  <tbody>\n",
       "    <tr>\n",
       "      <th>density</th>\n",
       "      <td>-30.052201</td>\n",
       "    </tr>\n",
       "    <tr>\n",
       "      <th>chlorides</th>\n",
       "      <td>-1.686055</td>\n",
       "    </tr>\n",
       "    <tr>\n",
       "      <th>volatile acidity</th>\n",
       "      <td>-1.111678</td>\n",
       "    </tr>\n",
       "    <tr>\n",
       "      <th>pH</th>\n",
       "      <td>-0.362621</td>\n",
       "    </tr>\n",
       "    <tr>\n",
       "      <th>citric acid</th>\n",
       "      <td>-0.260019</td>\n",
       "    </tr>\n",
       "    <tr>\n",
       "      <th>total sulfur dioxide</th>\n",
       "      <td>-0.002672</td>\n",
       "    </tr>\n",
       "    <tr>\n",
       "      <th>free sulfur dioxide</th>\n",
       "      <td>0.003088</td>\n",
       "    </tr>\n",
       "    <tr>\n",
       "      <th>residual sugar</th>\n",
       "      <td>0.024076</td>\n",
       "    </tr>\n",
       "    <tr>\n",
       "      <th>fixed acidity</th>\n",
       "      <td>0.040729</td>\n",
       "    </tr>\n",
       "    <tr>\n",
       "      <th>alcohol</th>\n",
       "      <td>0.294518</td>\n",
       "    </tr>\n",
       "    <tr>\n",
       "      <th>sulphates</th>\n",
       "      <td>0.867145</td>\n",
       "    </tr>\n",
       "  </tbody>\n",
       "</table>\n",
       "</div>"
      ],
      "text/plain": [
       "                         coeffs\n",
       "features                       \n",
       "density              -30.052201\n",
       "chlorides             -1.686055\n",
       "volatile acidity      -1.111678\n",
       "pH                    -0.362621\n",
       "citric acid           -0.260019\n",
       "total sulfur dioxide  -0.002672\n",
       "free sulfur dioxide    0.003088\n",
       "residual sugar         0.024076\n",
       "fixed acidity          0.040729\n",
       "alcohol                0.294518\n",
       "sulphates              0.867145"
      ]
     },
     "execution_count": 41,
     "metadata": {},
     "output_type": "execute_result"
    }
   ],
   "source": [
    "# let's take a look at the results\n",
    "feature_imp = pd.DataFrame(list(zip(attributes, feature_importances)), columns=['features', 'coeffs'])\n",
    "feature_imp=feature_imp.set_index('features')\n",
    "feature_imp=feature_imp.sort_values('coeffs')\n",
    "feature_imp"
   ]
  },
  {
   "cell_type": "code",
   "execution_count": 42,
   "id": "ba316297-e675-4edb-820f-917b9d32b13e",
   "metadata": {},
   "outputs": [
    {
     "data": {
      "image/png": "[encoded data removed]",
      "text/plain": [
       "<Figure size 432x288 with 1 Axes>"
      ]
     },
     "metadata": {
      "needs_background": "light"
     },
     "output_type": "display_data"
    }
   ],
   "source": [
    "# plot that as a bar chart\n",
    "feature_imp.plot(kind='bar');"
   ]
  },
  {
   "cell_type": "markdown",
   "id": "3e7760ba-e767-4ced-a4b9-5a91b1df62f5",
   "metadata": {},
   "source": [
    "### Evaluate your model"
   ]
  },
  {
   "cell_type": "code",
   "execution_count": 43,
   "id": "ab09d958-d587-4384-b83c-e274acff5b9b",
   "metadata": {},
   "outputs": [
    {
     "data": {
      "text/plain": [
       "0.69"
      ]
     },
     "execution_count": 43,
     "metadata": {},
     "output_type": "execute_result"
    }
   ],
   "source": [
    "# root mean squared error represents the average error (in $) of our model\n",
    "rmse = np.sqrt(metrics.mean_squared_error(y_test, y_preds))\n",
    "round(rmse,2)"
   ]
  },
  {
   "cell_type": "code",
   "execution_count": 44,
   "id": "e71da1e8-b9de-4062-9cfc-6dd64689c8f3",
   "metadata": {},
   "outputs": [
    {
     "data": {
      "text/plain": [
       "5.63"
      ]
     },
     "execution_count": 44,
     "metadata": {},
     "output_type": "execute_result"
    }
   ],
   "source": [
    "# how does this compare to the mean of our training set?\n",
    "avg_val = round(y_train.mean(),2)\n",
    "avg_val"
   ]
  },
  {
   "cell_type": "code",
   "execution_count": 45,
   "id": "0c92ffb9-e564-43c0-a00e-94ffb8a15b06",
   "metadata": {},
   "outputs": [
    {
     "name": "stdout",
     "output_type": "stream",
     "text": [
      "1\n"
     ]
    }
   ],
   "source": [
    "# If we used that as our predictor, then the average error of our model would be:\n",
    "comparison_array=np.full((len(y_test), ), avg_val)\n",
    "coin_flip=np.sqrt(metrics.mean_squared_error(y_test, comparison_array))\n",
    "print(round(coin_flip))"
   ]
  },
  {
   "cell_type": "code",
   "execution_count": 46,
   "id": "72f517eb-38a4-4fd1-b8ad-ab2d1142b6ee",
   "metadata": {},
   "outputs": [
    {
     "data": {
      "text/plain": [
       "0.25"
      ]
     },
     "execution_count": 46,
     "metadata": {},
     "output_type": "execute_result"
    }
   ],
   "source": [
    "# R-squared is another important metric\n",
    "r2=metrics.r2_score(y_test, y_preds)\n",
    "round(r2, 2)"
   ]
  },
  {
   "cell_type": "code",
   "execution_count": 47,
   "id": "27cebc5a-de95-4e0e-9645-85a71786ef10",
   "metadata": {},
   "outputs": [
    {
     "data": {
      "image/png": "[encoded data removed]",
      "text/plain": [
       "<Figure size 504x504 with 1 Axes>"
      ]
     },
     "metadata": {
      "needs_background": "light"
     },
     "output_type": "display_data"
    }
   ],
   "source": [
    "# Visualize our true vs. predicted values\n",
    "import seaborn as sns\n",
    "plt.figure(figsize=(7,7))\n",
    "plt.title('Median House Value by District')\n",
    "plt.xlabel('True Values')\n",
    "plt.ylabel('Predicted Values')\n",
    "fig=sns.regplot(x=y_preds, y=y_test)\n",
    "plt.show(fig)"
   ]
  },
  {
   "cell_type": "code",
   "execution_count": null,
   "id": "5272ee53-ef7d-48ac-8467-949528944e8b",
   "metadata": {},
   "outputs": [],
   "source": []
  }
 ],
 "metadata": {
  "kernelspec": {
   "display_name": "default:Python",
   "language": "python",
   "name": "conda-env-default-py"
  },
  "language_info": {
   "codemirror_mode": {
    "name": "ipython",
    "version": 3
   },
   "file_extension": ".py",
   "mimetype": "text/x-python",
   "name": "python",
   "nbconvert_exporter": "python",
   "pygments_lexer": "ipython3",
   "version": "3.9.13"
  }
 },
 "nbformat": 4,
 "nbformat_minor": 5
}
