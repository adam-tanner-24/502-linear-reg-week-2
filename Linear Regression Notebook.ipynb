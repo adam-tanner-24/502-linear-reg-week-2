{
 "cells": [
  {
   "cell_type": "markdown",
   "id": "779b8ad0-5f1a-4bb4-a08e-74b6c4dab44e",
   "metadata": {},
   "source": [
    "## Adult Income - Linear Regression"
   ]
  },
  {
   "cell_type": "code",
   "execution_count": null,
   "id": "784e4e2d-99f0-437c-9ec9-f29986550735",
   "metadata": {},
   "outputs": [],
   "source": [
    "! pip install pandas\n",
    "! pip install numpy\n",
    "! pip install sklearn \n",
    "! pip install matplotlib\n",
    "! pip install seaborn"
   ]
  },
  {
   "cell_type": "code",
   "execution_count": 1,
   "id": "3eddf53a-4cb4-43c2-b516-8ee45d1d23e3",
   "metadata": {},
   "outputs": [],
   "source": [
    "import pandas as pd\n",
    "from sklearn.linear_model import LinearRegression\n",
    "from sklearn.model_selection import train_test_split\n",
    "from sklearn.preprocessing import StandardScaler\n",
    "from sklearn.metrics import mean_squared_error,  mean_absolute_error\n",
    "from sklearn.linear_model import LinearRegression\n",
    "from sklearn import metrics\n",
    "import matplotlib.pyplot as plt\n",
    "import seaborn as sns\n",
    "import numpy as np\n",
    "from math import sqrt"
   ]
  },
  {
   "cell_type": "code",
   "execution_count": 2,
   "id": "bfb3ce32-054d-457e-885e-ae526f8aaeeb",
   "metadata": {},
   "outputs": [],
   "source": [
    "path = 'https://archive.ics.uci.edu/ml/machine-learning-databases/wine-quality/winequality-red.csv'\n",
    "df = pd.read_csv(path,\n",
    "                names = [\"fixed acidity\", \"volatile acidity\",\"citric acid\", \"residual sugar\",\"chlorides\",\"free sulfur dioxide\",\"total sulfur dioxide\",\"density\",\"pH\",\"sulphates\",\"alcohol\",\"quality\"],\n",
    "                sep=\";\")\n",
    "                \n"
   ]
  },
  {
   "cell_type": "code",
   "execution_count": 3,
   "id": "17782f2c-6c8a-4450-9d67-11ab90718022",
   "metadata": {},
   "outputs": [
    {
     "data": {
      "text/html": [
       "<div>\n",
       "<style scoped>\n",
       "    .dataframe tbody tr th:only-of-type {\n",
       "        vertical-align: middle;\n",
       "    }\n",
       "\n",
       "    .dataframe tbody tr th {\n",
       "        vertical-align: top;\n",
       "    }\n",
       "\n",
       "    .dataframe thead th {\n",
       "        text-align: right;\n",
       "    }\n",
       "</style>\n",
       "<table border=\"1\" class=\"dataframe\">\n",
       "  <thead>\n",
       "    <tr style=\"text-align: right;\">\n",
       "      <th></th>\n",
       "      <th>fixed acidity</th>\n",
       "      <th>volatile acidity</th>\n",
       "      <th>citric acid</th>\n",
       "      <th>residual sugar</th>\n",
       "      <th>chlorides</th>\n",
       "      <th>free sulfur dioxide</th>\n",
       "      <th>total sulfur dioxide</th>\n",
       "      <th>density</th>\n",
       "      <th>pH</th>\n",
       "      <th>sulphates</th>\n",
       "      <th>alcohol</th>\n",
       "      <th>quality</th>\n",
       "    </tr>\n",
       "  </thead>\n",
       "  <tbody>\n",
       "    <tr>\n",
       "      <th>0</th>\n",
       "      <td>fixed acidity</td>\n",
       "      <td>volatile acidity</td>\n",
       "      <td>citric acid</td>\n",
       "      <td>residual sugar</td>\n",
       "      <td>chlorides</td>\n",
       "      <td>free sulfur dioxide</td>\n",
       "      <td>total sulfur dioxide</td>\n",
       "      <td>density</td>\n",
       "      <td>pH</td>\n",
       "      <td>sulphates</td>\n",
       "      <td>alcohol</td>\n",
       "      <td>quality</td>\n",
       "    </tr>\n",
       "    <tr>\n",
       "      <th>1</th>\n",
       "      <td>7.4</td>\n",
       "      <td>0.7</td>\n",
       "      <td>0</td>\n",
       "      <td>1.9</td>\n",
       "      <td>0.076</td>\n",
       "      <td>11</td>\n",
       "      <td>34</td>\n",
       "      <td>0.9978</td>\n",
       "      <td>3.51</td>\n",
       "      <td>0.56</td>\n",
       "      <td>9.4</td>\n",
       "      <td>5</td>\n",
       "    </tr>\n",
       "    <tr>\n",
       "      <th>2</th>\n",
       "      <td>7.8</td>\n",
       "      <td>0.88</td>\n",
       "      <td>0</td>\n",
       "      <td>2.6</td>\n",
       "      <td>0.098</td>\n",
       "      <td>25</td>\n",
       "      <td>67</td>\n",
       "      <td>0.9968</td>\n",
       "      <td>3.2</td>\n",
       "      <td>0.68</td>\n",
       "      <td>9.8</td>\n",
       "      <td>5</td>\n",
       "    </tr>\n",
       "    <tr>\n",
       "      <th>3</th>\n",
       "      <td>7.8</td>\n",
       "      <td>0.76</td>\n",
       "      <td>0.04</td>\n",
       "      <td>2.3</td>\n",
       "      <td>0.092</td>\n",
       "      <td>15</td>\n",
       "      <td>54</td>\n",
       "      <td>0.997</td>\n",
       "      <td>3.26</td>\n",
       "      <td>0.65</td>\n",
       "      <td>9.8</td>\n",
       "      <td>5</td>\n",
       "    </tr>\n",
       "    <tr>\n",
       "      <th>4</th>\n",
       "      <td>11.2</td>\n",
       "      <td>0.28</td>\n",
       "      <td>0.56</td>\n",
       "      <td>1.9</td>\n",
       "      <td>0.075</td>\n",
       "      <td>17</td>\n",
       "      <td>60</td>\n",
       "      <td>0.998</td>\n",
       "      <td>3.16</td>\n",
       "      <td>0.58</td>\n",
       "      <td>9.8</td>\n",
       "      <td>6</td>\n",
       "    </tr>\n",
       "  </tbody>\n",
       "</table>\n",
       "</div>"
      ],
      "text/plain": [
       "   fixed acidity  volatile acidity  citric acid  residual sugar  chlorides  \\\n",
       "0  fixed acidity  volatile acidity  citric acid  residual sugar  chlorides   \n",
       "1            7.4               0.7            0             1.9      0.076   \n",
       "2            7.8              0.88            0             2.6      0.098   \n",
       "3            7.8              0.76         0.04             2.3      0.092   \n",
       "4           11.2              0.28         0.56             1.9      0.075   \n",
       "\n",
       "   free sulfur dioxide  total sulfur dioxide  density    pH  sulphates  \\\n",
       "0  free sulfur dioxide  total sulfur dioxide  density    pH  sulphates   \n",
       "1                   11                    34   0.9978  3.51       0.56   \n",
       "2                   25                    67   0.9968   3.2       0.68   \n",
       "3                   15                    54    0.997  3.26       0.65   \n",
       "4                   17                    60    0.998  3.16       0.58   \n",
       "\n",
       "   alcohol  quality  \n",
       "0  alcohol  quality  \n",
       "1      9.4        5  \n",
       "2      9.8        5  \n",
       "3      9.8        5  \n",
       "4      9.8        6  "
      ]
     },
     "execution_count": 3,
     "metadata": {},
     "output_type": "execute_result"
    }
   ],
   "source": [
    "df.head(5)"
   ]
  },
  {
   "cell_type": "code",
   "execution_count": 4,
   "id": "3d262b73-e520-4051-bf40-09f39dc3be91",
   "metadata": {},
   "outputs": [
    {
     "data": {
      "text/plain": [
       "(1600, 12)"
      ]
     },
     "execution_count": 4,
     "metadata": {},
     "output_type": "execute_result"
    }
   ],
   "source": [
    "df.shape"
   ]
  },
  {
   "cell_type": "code",
   "execution_count": 5,
   "id": "ff6825df-dc70-4905-a98e-54f781fe4dee",
   "metadata": {},
   "outputs": [
    {
     "data": {
      "text/html": [
       "<div>\n",
       "<style scoped>\n",
       "    .dataframe tbody tr th:only-of-type {\n",
       "        vertical-align: middle;\n",
       "    }\n",
       "\n",
       "    .dataframe tbody tr th {\n",
       "        vertical-align: top;\n",
       "    }\n",
       "\n",
       "    .dataframe thead th {\n",
       "        text-align: right;\n",
       "    }\n",
       "</style>\n",
       "<table border=\"1\" class=\"dataframe\">\n",
       "  <thead>\n",
       "    <tr style=\"text-align: right;\">\n",
       "      <th></th>\n",
       "      <th>fixed acidity</th>\n",
       "      <th>volatile acidity</th>\n",
       "      <th>citric acid</th>\n",
       "      <th>residual sugar</th>\n",
       "      <th>chlorides</th>\n",
       "      <th>free sulfur dioxide</th>\n",
       "      <th>total sulfur dioxide</th>\n",
       "      <th>density</th>\n",
       "      <th>pH</th>\n",
       "      <th>sulphates</th>\n",
       "      <th>alcohol</th>\n",
       "      <th>quality</th>\n",
       "    </tr>\n",
       "  </thead>\n",
       "  <tbody>\n",
       "    <tr>\n",
       "      <th>743</th>\n",
       "      <td>6.5</td>\n",
       "      <td>0.615</td>\n",
       "      <td>0</td>\n",
       "      <td>1.9</td>\n",
       "      <td>0.065</td>\n",
       "      <td>9</td>\n",
       "      <td>18</td>\n",
       "      <td>0.9972</td>\n",
       "      <td>3.46</td>\n",
       "      <td>0.65</td>\n",
       "      <td>9.2</td>\n",
       "      <td>5</td>\n",
       "    </tr>\n",
       "    <tr>\n",
       "      <th>369</th>\n",
       "      <td>10.3</td>\n",
       "      <td>0.34</td>\n",
       "      <td>0.52</td>\n",
       "      <td>2.8</td>\n",
       "      <td>0.159</td>\n",
       "      <td>15</td>\n",
       "      <td>75</td>\n",
       "      <td>0.9998</td>\n",
       "      <td>3.18</td>\n",
       "      <td>0.64</td>\n",
       "      <td>9.4</td>\n",
       "      <td>5</td>\n",
       "    </tr>\n",
       "    <tr>\n",
       "      <th>426</th>\n",
       "      <td>6.6</td>\n",
       "      <td>0.84</td>\n",
       "      <td>0.03</td>\n",
       "      <td>2.3</td>\n",
       "      <td>0.059</td>\n",
       "      <td>32</td>\n",
       "      <td>48</td>\n",
       "      <td>0.9952</td>\n",
       "      <td>3.52</td>\n",
       "      <td>0.56</td>\n",
       "      <td>12.3</td>\n",
       "      <td>7</td>\n",
       "    </tr>\n",
       "    <tr>\n",
       "      <th>1295</th>\n",
       "      <td>8.2</td>\n",
       "      <td>0.635</td>\n",
       "      <td>0.1</td>\n",
       "      <td>2.1</td>\n",
       "      <td>0.073</td>\n",
       "      <td>25</td>\n",
       "      <td>60</td>\n",
       "      <td>0.99638</td>\n",
       "      <td>3.29</td>\n",
       "      <td>0.75</td>\n",
       "      <td>10.9</td>\n",
       "      <td>6</td>\n",
       "    </tr>\n",
       "    <tr>\n",
       "      <th>1434</th>\n",
       "      <td>6.1</td>\n",
       "      <td>0.4</td>\n",
       "      <td>0.16</td>\n",
       "      <td>1.8</td>\n",
       "      <td>0.069</td>\n",
       "      <td>11</td>\n",
       "      <td>25</td>\n",
       "      <td>0.9955</td>\n",
       "      <td>3.42</td>\n",
       "      <td>0.74</td>\n",
       "      <td>10.1</td>\n",
       "      <td>7</td>\n",
       "    </tr>\n",
       "    <tr>\n",
       "      <th>246</th>\n",
       "      <td>7.3</td>\n",
       "      <td>0.66</td>\n",
       "      <td>0</td>\n",
       "      <td>2</td>\n",
       "      <td>0.084</td>\n",
       "      <td>6</td>\n",
       "      <td>23</td>\n",
       "      <td>0.9983</td>\n",
       "      <td>3.61</td>\n",
       "      <td>0.96</td>\n",
       "      <td>9.9</td>\n",
       "      <td>6</td>\n",
       "    </tr>\n",
       "    <tr>\n",
       "      <th>606</th>\n",
       "      <td>8.3</td>\n",
       "      <td>0.6</td>\n",
       "      <td>0.13</td>\n",
       "      <td>2.6</td>\n",
       "      <td>0.085</td>\n",
       "      <td>6</td>\n",
       "      <td>24</td>\n",
       "      <td>0.9984</td>\n",
       "      <td>3.31</td>\n",
       "      <td>0.59</td>\n",
       "      <td>9.2</td>\n",
       "      <td>6</td>\n",
       "    </tr>\n",
       "    <tr>\n",
       "      <th>572</th>\n",
       "      <td>6.2</td>\n",
       "      <td>0.36</td>\n",
       "      <td>0.24</td>\n",
       "      <td>2.2</td>\n",
       "      <td>0.095</td>\n",
       "      <td>19</td>\n",
       "      <td>42</td>\n",
       "      <td>0.9946</td>\n",
       "      <td>3.57</td>\n",
       "      <td>0.57</td>\n",
       "      <td>11.7</td>\n",
       "      <td>6</td>\n",
       "    </tr>\n",
       "    <tr>\n",
       "      <th>1464</th>\n",
       "      <td>6.9</td>\n",
       "      <td>0.63</td>\n",
       "      <td>0.01</td>\n",
       "      <td>2.4</td>\n",
       "      <td>0.076</td>\n",
       "      <td>14</td>\n",
       "      <td>39</td>\n",
       "      <td>0.99522</td>\n",
       "      <td>3.34</td>\n",
       "      <td>0.53</td>\n",
       "      <td>10.8</td>\n",
       "      <td>6</td>\n",
       "    </tr>\n",
       "    <tr>\n",
       "      <th>768</th>\n",
       "      <td>7.5</td>\n",
       "      <td>0.6</td>\n",
       "      <td>0.32</td>\n",
       "      <td>2.7</td>\n",
       "      <td>0.103</td>\n",
       "      <td>13</td>\n",
       "      <td>98</td>\n",
       "      <td>0.99938</td>\n",
       "      <td>3.45</td>\n",
       "      <td>0.62</td>\n",
       "      <td>9.5</td>\n",
       "      <td>5</td>\n",
       "    </tr>\n",
       "  </tbody>\n",
       "</table>\n",
       "</div>"
      ],
      "text/plain": [
       "     fixed acidity volatile acidity citric acid residual sugar chlorides  \\\n",
       "743            6.5            0.615           0            1.9     0.065   \n",
       "369           10.3             0.34        0.52            2.8     0.159   \n",
       "426            6.6             0.84        0.03            2.3     0.059   \n",
       "1295           8.2            0.635         0.1            2.1     0.073   \n",
       "1434           6.1              0.4        0.16            1.8     0.069   \n",
       "246            7.3             0.66           0              2     0.084   \n",
       "606            8.3              0.6        0.13            2.6     0.085   \n",
       "572            6.2             0.36        0.24            2.2     0.095   \n",
       "1464           6.9             0.63        0.01            2.4     0.076   \n",
       "768            7.5              0.6        0.32            2.7     0.103   \n",
       "\n",
       "     free sulfur dioxide total sulfur dioxide  density    pH sulphates  \\\n",
       "743                    9                   18   0.9972  3.46      0.65   \n",
       "369                   15                   75   0.9998  3.18      0.64   \n",
       "426                   32                   48   0.9952  3.52      0.56   \n",
       "1295                  25                   60  0.99638  3.29      0.75   \n",
       "1434                  11                   25   0.9955  3.42      0.74   \n",
       "246                    6                   23   0.9983  3.61      0.96   \n",
       "606                    6                   24   0.9984  3.31      0.59   \n",
       "572                   19                   42   0.9946  3.57      0.57   \n",
       "1464                  14                   39  0.99522  3.34      0.53   \n",
       "768                   13                   98  0.99938  3.45      0.62   \n",
       "\n",
       "     alcohol quality  \n",
       "743      9.2       5  \n",
       "369      9.4       5  \n",
       "426     12.3       7  \n",
       "1295    10.9       6  \n",
       "1434    10.1       7  \n",
       "246      9.9       6  \n",
       "606      9.2       6  \n",
       "572     11.7       6  \n",
       "1464    10.8       6  \n",
       "768      9.5       5  "
      ]
     },
     "execution_count": 5,
     "metadata": {},
     "output_type": "execute_result"
    }
   ],
   "source": [
    "df.sample(10)"
   ]
  },
  {
   "cell_type": "markdown",
   "id": "5142a090-2f0a-4f79-bf66-58b40f4b160c",
   "metadata": {},
   "source": [
    "### Exploratory Data Analysis"
   ]
  },
  {
   "cell_type": "code",
   "execution_count": 6,
   "id": "162f5798-051f-48c9-a720-118d39cde513",
   "metadata": {},
   "outputs": [
    {
     "data": {
      "text/plain": [
       "count     1600\n",
       "unique      97\n",
       "top        7.2\n",
       "freq        67\n",
       "Name: fixed acidity, dtype: object"
      ]
     },
     "execution_count": 6,
     "metadata": {},
     "output_type": "execute_result"
    }
   ],
   "source": [
    "df['fixed acidity'].describe()"
   ]
  },
  {
   "cell_type": "code",
   "execution_count": 7,
   "id": "c37da1f4-2df0-4faf-a8b1-8f956c5f4a16",
   "metadata": {},
   "outputs": [
    {
     "data": {
      "text/plain": [
       "count     1600\n",
       "unique     144\n",
       "top        0.6\n",
       "freq        47\n",
       "Name: volatile acidity, dtype: object"
      ]
     },
     "execution_count": 7,
     "metadata": {},
     "output_type": "execute_result"
    }
   ],
   "source": [
    "df['volatile acidity'].describe()"
   ]
  },
  {
   "cell_type": "code",
   "execution_count": 8,
   "id": "bceac3a2-d134-442b-8a57-d9ac3a0da814",
   "metadata": {},
   "outputs": [
    {
     "data": {
      "text/plain": [
       "fixed acidity           object\n",
       "volatile acidity        object\n",
       "citric acid             object\n",
       "residual sugar          object\n",
       "chlorides               object\n",
       "free sulfur dioxide     object\n",
       "total sulfur dioxide    object\n",
       "density                 object\n",
       "pH                      object\n",
       "sulphates               object\n",
       "alcohol                 object\n",
       "quality                 object\n",
       "dtype: object"
      ]
     },
     "execution_count": 8,
     "metadata": {},
     "output_type": "execute_result"
    }
   ],
   "source": [
    "df.dtypes"
   ]
  },
  {
   "cell_type": "code",
   "execution_count": 9,
   "id": "8be66823-5c5f-4fce-ba05-574a2c61759c",
   "metadata": {},
   "outputs": [],
   "source": [
    "df_columns = df.columns"
   ]
  },
  {
   "cell_type": "code",
   "execution_count": 10,
   "id": "dc13a49d-650d-47de-818e-b4a1dcae1e49",
   "metadata": {},
   "outputs": [],
   "source": [
    "df[df_columns] = df[df_columns].apply(pd.to_numeric, errors='coerce')"
   ]
  },
  {
   "cell_type": "code",
   "execution_count": 11,
   "id": "3175be58-5183-4434-8d97-14b77950767a",
   "metadata": {},
   "outputs": [
    {
     "data": {
      "text/plain": [
       "fixed acidity           float64\n",
       "volatile acidity        float64\n",
       "citric acid             float64\n",
       "residual sugar          float64\n",
       "chlorides               float64\n",
       "free sulfur dioxide     float64\n",
       "total sulfur dioxide    float64\n",
       "density                 float64\n",
       "pH                      float64\n",
       "sulphates               float64\n",
       "alcohol                 float64\n",
       "quality                 float64\n",
       "dtype: object"
      ]
     },
     "execution_count": 11,
     "metadata": {},
     "output_type": "execute_result"
    }
   ],
   "source": [
    "df.dtypes"
   ]
  },
  {
   "cell_type": "code",
   "execution_count": 12,
   "id": "137c8320-ccde-41b2-a5ae-dd99495a143e",
   "metadata": {},
   "outputs": [
    {
     "data": {
      "text/html": [
       "<div>\n",
       "<style scoped>\n",
       "    .dataframe tbody tr th:only-of-type {\n",
       "        vertical-align: middle;\n",
       "    }\n",
       "\n",
       "    .dataframe tbody tr th {\n",
       "        vertical-align: top;\n",
       "    }\n",
       "\n",
       "    .dataframe thead th {\n",
       "        text-align: right;\n",
       "    }\n",
       "</style>\n",
       "<table border=\"1\" class=\"dataframe\">\n",
       "  <thead>\n",
       "    <tr style=\"text-align: right;\">\n",
       "      <th></th>\n",
       "      <th>fixed acidity</th>\n",
       "      <th>volatile acidity</th>\n",
       "      <th>citric acid</th>\n",
       "      <th>residual sugar</th>\n",
       "      <th>chlorides</th>\n",
       "      <th>free sulfur dioxide</th>\n",
       "      <th>total sulfur dioxide</th>\n",
       "      <th>density</th>\n",
       "      <th>pH</th>\n",
       "      <th>sulphates</th>\n",
       "      <th>alcohol</th>\n",
       "      <th>quality</th>\n",
       "    </tr>\n",
       "  </thead>\n",
       "  <tbody>\n",
       "    <tr>\n",
       "      <th>279</th>\n",
       "      <td>10.3</td>\n",
       "      <td>0.320</td>\n",
       "      <td>0.45</td>\n",
       "      <td>6.4</td>\n",
       "      <td>0.073</td>\n",
       "      <td>5.0</td>\n",
       "      <td>13.0</td>\n",
       "      <td>0.99760</td>\n",
       "      <td>3.23</td>\n",
       "      <td>0.82</td>\n",
       "      <td>12.6</td>\n",
       "      <td>8.0</td>\n",
       "    </tr>\n",
       "    <tr>\n",
       "      <th>483</th>\n",
       "      <td>10.6</td>\n",
       "      <td>0.360</td>\n",
       "      <td>0.59</td>\n",
       "      <td>2.2</td>\n",
       "      <td>0.152</td>\n",
       "      <td>6.0</td>\n",
       "      <td>18.0</td>\n",
       "      <td>0.99860</td>\n",
       "      <td>3.04</td>\n",
       "      <td>1.05</td>\n",
       "      <td>9.4</td>\n",
       "      <td>5.0</td>\n",
       "    </tr>\n",
       "    <tr>\n",
       "      <th>175</th>\n",
       "      <td>7.3</td>\n",
       "      <td>0.380</td>\n",
       "      <td>0.21</td>\n",
       "      <td>2.0</td>\n",
       "      <td>0.080</td>\n",
       "      <td>7.0</td>\n",
       "      <td>35.0</td>\n",
       "      <td>0.99610</td>\n",
       "      <td>3.33</td>\n",
       "      <td>0.47</td>\n",
       "      <td>9.5</td>\n",
       "      <td>5.0</td>\n",
       "    </tr>\n",
       "    <tr>\n",
       "      <th>614</th>\n",
       "      <td>8.2</td>\n",
       "      <td>0.390</td>\n",
       "      <td>0.38</td>\n",
       "      <td>1.5</td>\n",
       "      <td>0.058</td>\n",
       "      <td>10.0</td>\n",
       "      <td>29.0</td>\n",
       "      <td>0.99620</td>\n",
       "      <td>3.26</td>\n",
       "      <td>0.74</td>\n",
       "      <td>9.8</td>\n",
       "      <td>5.0</td>\n",
       "    </tr>\n",
       "    <tr>\n",
       "      <th>1460</th>\n",
       "      <td>7.9</td>\n",
       "      <td>0.200</td>\n",
       "      <td>0.35</td>\n",
       "      <td>1.7</td>\n",
       "      <td>0.054</td>\n",
       "      <td>7.0</td>\n",
       "      <td>15.0</td>\n",
       "      <td>0.99458</td>\n",
       "      <td>3.32</td>\n",
       "      <td>0.80</td>\n",
       "      <td>11.9</td>\n",
       "      <td>7.0</td>\n",
       "    </tr>\n",
       "    <tr>\n",
       "      <th>1185</th>\n",
       "      <td>6.7</td>\n",
       "      <td>0.640</td>\n",
       "      <td>0.23</td>\n",
       "      <td>2.1</td>\n",
       "      <td>0.080</td>\n",
       "      <td>11.0</td>\n",
       "      <td>119.0</td>\n",
       "      <td>0.99538</td>\n",
       "      <td>3.36</td>\n",
       "      <td>0.70</td>\n",
       "      <td>10.9</td>\n",
       "      <td>5.0</td>\n",
       "    </tr>\n",
       "    <tr>\n",
       "      <th>973</th>\n",
       "      <td>10.1</td>\n",
       "      <td>0.380</td>\n",
       "      <td>0.50</td>\n",
       "      <td>2.4</td>\n",
       "      <td>0.104</td>\n",
       "      <td>6.0</td>\n",
       "      <td>13.0</td>\n",
       "      <td>0.99643</td>\n",
       "      <td>3.22</td>\n",
       "      <td>0.65</td>\n",
       "      <td>11.6</td>\n",
       "      <td>7.0</td>\n",
       "    </tr>\n",
       "    <tr>\n",
       "      <th>148</th>\n",
       "      <td>7.6</td>\n",
       "      <td>0.490</td>\n",
       "      <td>0.26</td>\n",
       "      <td>1.6</td>\n",
       "      <td>0.236</td>\n",
       "      <td>10.0</td>\n",
       "      <td>88.0</td>\n",
       "      <td>0.99680</td>\n",
       "      <td>3.11</td>\n",
       "      <td>0.80</td>\n",
       "      <td>9.3</td>\n",
       "      <td>5.0</td>\n",
       "    </tr>\n",
       "    <tr>\n",
       "      <th>462</th>\n",
       "      <td>8.3</td>\n",
       "      <td>0.615</td>\n",
       "      <td>0.22</td>\n",
       "      <td>2.6</td>\n",
       "      <td>0.087</td>\n",
       "      <td>6.0</td>\n",
       "      <td>19.0</td>\n",
       "      <td>0.99820</td>\n",
       "      <td>3.26</td>\n",
       "      <td>0.61</td>\n",
       "      <td>9.3</td>\n",
       "      <td>5.0</td>\n",
       "    </tr>\n",
       "    <tr>\n",
       "      <th>1251</th>\n",
       "      <td>7.1</td>\n",
       "      <td>0.600</td>\n",
       "      <td>0.01</td>\n",
       "      <td>2.3</td>\n",
       "      <td>0.079</td>\n",
       "      <td>24.0</td>\n",
       "      <td>37.0</td>\n",
       "      <td>0.99514</td>\n",
       "      <td>3.40</td>\n",
       "      <td>0.61</td>\n",
       "      <td>10.9</td>\n",
       "      <td>6.0</td>\n",
       "    </tr>\n",
       "  </tbody>\n",
       "</table>\n",
       "</div>"
      ],
      "text/plain": [
       "      fixed acidity  volatile acidity  citric acid  residual sugar  chlorides  \\\n",
       "279            10.3             0.320         0.45             6.4      0.073   \n",
       "483            10.6             0.360         0.59             2.2      0.152   \n",
       "175             7.3             0.380         0.21             2.0      0.080   \n",
       "614             8.2             0.390         0.38             1.5      0.058   \n",
       "1460            7.9             0.200         0.35             1.7      0.054   \n",
       "1185            6.7             0.640         0.23             2.1      0.080   \n",
       "973            10.1             0.380         0.50             2.4      0.104   \n",
       "148             7.6             0.490         0.26             1.6      0.236   \n",
       "462             8.3             0.615         0.22             2.6      0.087   \n",
       "1251            7.1             0.600         0.01             2.3      0.079   \n",
       "\n",
       "      free sulfur dioxide  total sulfur dioxide  density    pH  sulphates  \\\n",
       "279                   5.0                  13.0  0.99760  3.23       0.82   \n",
       "483                   6.0                  18.0  0.99860  3.04       1.05   \n",
       "175                   7.0                  35.0  0.99610  3.33       0.47   \n",
       "614                  10.0                  29.0  0.99620  3.26       0.74   \n",
       "1460                  7.0                  15.0  0.99458  3.32       0.80   \n",
       "1185                 11.0                 119.0  0.99538  3.36       0.70   \n",
       "973                   6.0                  13.0  0.99643  3.22       0.65   \n",
       "148                  10.0                  88.0  0.99680  3.11       0.80   \n",
       "462                   6.0                  19.0  0.99820  3.26       0.61   \n",
       "1251                 24.0                  37.0  0.99514  3.40       0.61   \n",
       "\n",
       "      alcohol  quality  \n",
       "279      12.6      8.0  \n",
       "483       9.4      5.0  \n",
       "175       9.5      5.0  \n",
       "614       9.8      5.0  \n",
       "1460     11.9      7.0  \n",
       "1185     10.9      5.0  \n",
       "973      11.6      7.0  \n",
       "148       9.3      5.0  \n",
       "462       9.3      5.0  \n",
       "1251     10.9      6.0  "
      ]
     },
     "execution_count": 12,
     "metadata": {},
     "output_type": "execute_result"
    }
   ],
   "source": [
    "df.sample(10)"
   ]
  },
  {
   "cell_type": "code",
   "execution_count": 24,
   "id": "efdec95d-9a0f-4f1b-bf1f-abeba7f59325",
   "metadata": {},
   "outputs": [],
   "source": [
    "df.dropna(axis=0,how='any',inplace=True)"
   ]
  },
  {
   "cell_type": "code",
   "execution_count": 25,
   "id": "02c8e951-d3ba-4097-a3ed-fb27617aed7b",
   "metadata": {},
   "outputs": [
    {
     "name": "stdout",
     "output_type": "stream",
     "text": [
      "quality                 0\n",
      "fixed acidity           0\n",
      "volatile acidity        0\n",
      "citric acid             0\n",
      "residual sugar          0\n",
      "chlorides               0\n",
      "free sulfur dioxide     0\n",
      "total sulfur dioxide    0\n",
      "density                 0\n",
      "pH                      0\n",
      "sulphates               0\n",
      "alcohol                 0\n",
      "dtype: int64\n"
     ]
    }
   ],
   "source": [
    "# Check for null values\n",
    "print(df.isnull().sum())"
   ]
  },
  {
   "cell_type": "code",
   "execution_count": 26,
   "id": "35e16841-1ad7-4b90-8222-b8d7e2cf3185",
   "metadata": {},
   "outputs": [],
   "source": [
    "features = [\"fixed acidity\", \"volatile acidity\",\"citric acid\", \"residual sugar\",\"chlorides\",\"free sulfur dioxide\",\"total sulfur dioxide\",\"density\",\"pH\",\"sulphates\",\"alcohol\"]"
   ]
  },
  {
   "cell_type": "code",
   "execution_count": 27,
   "id": "54d324d5-eed0-403e-9f03-808d513b3569",
   "metadata": {},
   "outputs": [
    {
     "data": {
      "text/html": [
       "<style>#sk-container-id-2 {color: black;background-color: white;}#sk-container-id-2 pre{padding: 0;}#sk-container-id-2 div.sk-toggleable {background-color: white;}#sk-container-id-2 label.sk-toggleable__label {cursor: pointer;display: block;width: 100%;margin-bottom: 0;padding: 0.3em;box-sizing: border-box;text-align: center;}#sk-container-id-2 label.sk-toggleable__label-arrow:before {content: \"▸\";float: left;margin-right: 0.25em;color: #696969;}#sk-container-id-2 label.sk-toggleable__label-arrow:hover:before {color: black;}#sk-container-id-2 div.sk-estimator:hover label.sk-toggleable__label-arrow:before {color: black;}#sk-container-id-2 div.sk-toggleable__content {max-height: 0;max-width: 0;overflow: hidden;text-align: left;background-color: #f0f8ff;}#sk-container-id-2 div.sk-toggleable__content pre {margin: 0.2em;color: black;border-radius: 0.25em;background-color: #f0f8ff;}#sk-container-id-2 input.sk-toggleable__control:checked~div.sk-toggleable__content {max-height: 200px;max-width: 100%;overflow: auto;}#sk-container-id-2 input.sk-toggleable__control:checked~label.sk-toggleable__label-arrow:before {content: \"▾\";}#sk-container-id-2 div.sk-estimator input.sk-toggleable__control:checked~label.sk-toggleable__label {background-color: #d4ebff;}#sk-container-id-2 div.sk-label input.sk-toggleable__control:checked~label.sk-toggleable__label {background-color: #d4ebff;}#sk-container-id-2 input.sk-hidden--visually {border: 0;clip: rect(1px 1px 1px 1px);clip: rect(1px, 1px, 1px, 1px);height: 1px;margin: -1px;overflow: hidden;padding: 0;position: absolute;width: 1px;}#sk-container-id-2 div.sk-estimator {font-family: monospace;background-color: #f0f8ff;border: 1px dotted black;border-radius: 0.25em;box-sizing: border-box;margin-bottom: 0.5em;}#sk-container-id-2 div.sk-estimator:hover {background-color: #d4ebff;}#sk-container-id-2 div.sk-parallel-item::after {content: \"\";width: 100%;border-bottom: 1px solid gray;flex-grow: 1;}#sk-container-id-2 div.sk-label:hover label.sk-toggleable__label {background-color: #d4ebff;}#sk-container-id-2 div.sk-serial::before {content: \"\";position: absolute;border-left: 1px solid gray;box-sizing: border-box;top: 0;bottom: 0;left: 50%;z-index: 0;}#sk-container-id-2 div.sk-serial {display: flex;flex-direction: column;align-items: center;background-color: white;padding-right: 0.2em;padding-left: 0.2em;position: relative;}#sk-container-id-2 div.sk-item {position: relative;z-index: 1;}#sk-container-id-2 div.sk-parallel {display: flex;align-items: stretch;justify-content: center;background-color: white;position: relative;}#sk-container-id-2 div.sk-item::before, #sk-container-id-2 div.sk-parallel-item::before {content: \"\";position: absolute;border-left: 1px solid gray;box-sizing: border-box;top: 0;bottom: 0;left: 50%;z-index: -1;}#sk-container-id-2 div.sk-parallel-item {display: flex;flex-direction: column;z-index: 1;position: relative;background-color: white;}#sk-container-id-2 div.sk-parallel-item:first-child::after {align-self: flex-end;width: 50%;}#sk-container-id-2 div.sk-parallel-item:last-child::after {align-self: flex-start;width: 50%;}#sk-container-id-2 div.sk-parallel-item:only-child::after {width: 0;}#sk-container-id-2 div.sk-dashed-wrapped {border: 1px dashed gray;margin: 0 0.4em 0.5em 0.4em;box-sizing: border-box;padding-bottom: 0.4em;background-color: white;}#sk-container-id-2 div.sk-label label {font-family: monospace;font-weight: bold;display: inline-block;line-height: 1.2em;}#sk-container-id-2 div.sk-label-container {text-align: center;}#sk-container-id-2 div.sk-container {/* jupyter's `normalize.less` sets `[hidden] { display: none; }` but bootstrap.min.css set `[hidden] { display: none !important; }` so we also need the `!important` here to be able to override the default hidden behavior on the sphinx rendered scikit-learn.org. See: https://github.com/scikit-learn/scikit-learn/issues/21755 */display: inline-block !important;position: relative;}#sk-container-id-2 div.sk-text-repr-fallback {display: none;}</style><div id=\"sk-container-id-2\" class=\"sk-top-container\"><div class=\"sk-text-repr-fallback\"><pre>StandardScaler()</pre><b>In a Jupyter environment, please rerun this cell to show the HTML representation or trust the notebook. <br />On GitHub, the HTML representation is unable to render, please try loading this page with nbviewer.org.</b></div><div class=\"sk-container\" hidden><div class=\"sk-item\"><div class=\"sk-estimator sk-toggleable\"><input class=\"sk-toggleable__control sk-hidden--visually\" id=\"sk-estimator-id-2\" type=\"checkbox\" checked><label for=\"sk-estimator-id-2\" class=\"sk-toggleable__label sk-toggleable__label-arrow\">StandardScaler</label><div class=\"sk-toggleable__content\"><pre>StandardScaler()</pre></div></div></div></div></div>"
      ],
      "text/plain": [
       "StandardScaler()"
      ]
     },
     "execution_count": 27,
     "metadata": {},
     "output_type": "execute_result"
    }
   ],
   "source": [
    "# Initiate the scaler (create an instance of the sklearn class\n",
    "std_scaler = StandardScaler()\n",
    "std_scaler"
   ]
  },
  {
   "cell_type": "code",
   "execution_count": 28,
   "id": "aab30f02-1d7e-4af8-8502-fccd99b420b2",
   "metadata": {},
   "outputs": [
    {
     "data": {
      "text/plain": [
       "array([[-0.2988107 ,  1.96799868, -1.3927516 ,  0.04312181,  0.22365688,\n",
       "         0.87213298,  0.62395884,  0.02860397, -0.71927581,  0.12856122,\n",
       "        -0.58536385],\n",
       "       [-0.2988107 ,  1.29763706, -1.18728948, -0.16966868,  0.09617206,\n",
       "        -0.08394063,  0.22874813,  0.13458389, -0.33043862, -0.04844122,\n",
       "        -0.58536385]])"
      ]
     },
     "execution_count": 28,
     "metadata": {},
     "output_type": "execute_result"
    }
   ],
   "source": [
    "# Fit the scaler to our data\n",
    "scaled_results = std_scaler.fit_transform(df[features])\n",
    "scaled_results[:2]"
   ]
  },
  {
   "cell_type": "code",
   "execution_count": 29,
   "id": "8627ff6d-158f-4d8d-9a5b-2f4abeaa5e22",
   "metadata": {},
   "outputs": [
    {
     "data": {
      "text/html": [
       "<div>\n",
       "<style scoped>\n",
       "    .dataframe tbody tr th:only-of-type {\n",
       "        vertical-align: middle;\n",
       "    }\n",
       "\n",
       "    .dataframe tbody tr th {\n",
       "        vertical-align: top;\n",
       "    }\n",
       "\n",
       "    .dataframe thead th {\n",
       "        text-align: right;\n",
       "    }\n",
       "</style>\n",
       "<table border=\"1\" class=\"dataframe\">\n",
       "  <thead>\n",
       "    <tr style=\"text-align: right;\">\n",
       "      <th></th>\n",
       "      <th>fixed acidity</th>\n",
       "      <th>volatile acidity</th>\n",
       "      <th>citric acid</th>\n",
       "      <th>residual sugar</th>\n",
       "      <th>chlorides</th>\n",
       "      <th>free sulfur dioxide</th>\n",
       "      <th>total sulfur dioxide</th>\n",
       "      <th>density</th>\n",
       "      <th>pH</th>\n",
       "      <th>sulphates</th>\n",
       "      <th>alcohol</th>\n",
       "    </tr>\n",
       "  </thead>\n",
       "  <tbody>\n",
       "    <tr>\n",
       "      <th>0</th>\n",
       "      <td>-0.298811</td>\n",
       "      <td>1.967999</td>\n",
       "      <td>-1.392752</td>\n",
       "      <td>0.043122</td>\n",
       "      <td>0.223657</td>\n",
       "      <td>0.872133</td>\n",
       "      <td>0.623959</td>\n",
       "      <td>0.028604</td>\n",
       "      <td>-0.719276</td>\n",
       "      <td>0.128561</td>\n",
       "      <td>-0.585364</td>\n",
       "    </tr>\n",
       "    <tr>\n",
       "      <th>1</th>\n",
       "      <td>-0.298811</td>\n",
       "      <td>1.297637</td>\n",
       "      <td>-1.187289</td>\n",
       "      <td>-0.169669</td>\n",
       "      <td>0.096172</td>\n",
       "      <td>-0.083941</td>\n",
       "      <td>0.228748</td>\n",
       "      <td>0.134584</td>\n",
       "      <td>-0.330439</td>\n",
       "      <td>-0.048441</td>\n",
       "      <td>-0.585364</td>\n",
       "    </tr>\n",
       "    <tr>\n",
       "      <th>2</th>\n",
       "      <td>1.654152</td>\n",
       "      <td>-1.383809</td>\n",
       "      <td>1.483718</td>\n",
       "      <td>-0.453389</td>\n",
       "      <td>-0.265035</td>\n",
       "      <td>0.107274</td>\n",
       "      <td>0.411153</td>\n",
       "      <td>0.664484</td>\n",
       "      <td>-0.978501</td>\n",
       "      <td>-0.461447</td>\n",
       "      <td>-0.585364</td>\n",
       "    </tr>\n",
       "    <tr>\n",
       "      <th>3</th>\n",
       "      <td>-0.528571</td>\n",
       "      <td>0.962456</td>\n",
       "      <td>-1.392752</td>\n",
       "      <td>-0.453389</td>\n",
       "      <td>-0.243787</td>\n",
       "      <td>-0.466370</td>\n",
       "      <td>-0.379268</td>\n",
       "      <td>0.558504</td>\n",
       "      <td>1.289716</td>\n",
       "      <td>-0.579449</td>\n",
       "      <td>-0.960824</td>\n",
       "    </tr>\n",
       "    <tr>\n",
       "      <th>4</th>\n",
       "      <td>-0.528571</td>\n",
       "      <td>0.739002</td>\n",
       "      <td>-1.392752</td>\n",
       "      <td>-0.524319</td>\n",
       "      <td>-0.265035</td>\n",
       "      <td>-0.275155</td>\n",
       "      <td>-0.196863</td>\n",
       "      <td>0.558504</td>\n",
       "      <td>1.289716</td>\n",
       "      <td>-0.579449</td>\n",
       "      <td>-0.960824</td>\n",
       "    </tr>\n",
       "  </tbody>\n",
       "</table>\n",
       "</div>"
      ],
      "text/plain": [
       "   fixed acidity  volatile acidity  citric acid  residual sugar  chlorides  \\\n",
       "0      -0.298811          1.967999    -1.392752        0.043122   0.223657   \n",
       "1      -0.298811          1.297637    -1.187289       -0.169669   0.096172   \n",
       "2       1.654152         -1.383809     1.483718       -0.453389  -0.265035   \n",
       "3      -0.528571          0.962456    -1.392752       -0.453389  -0.243787   \n",
       "4      -0.528571          0.739002    -1.392752       -0.524319  -0.265035   \n",
       "\n",
       "   free sulfur dioxide  total sulfur dioxide   density        pH  sulphates  \\\n",
       "0             0.872133              0.623959  0.028604 -0.719276   0.128561   \n",
       "1            -0.083941              0.228748  0.134584 -0.330439  -0.048441   \n",
       "2             0.107274              0.411153  0.664484 -0.978501  -0.461447   \n",
       "3            -0.466370             -0.379268  0.558504  1.289716  -0.579449   \n",
       "4            -0.275155             -0.196863  0.558504  1.289716  -0.579449   \n",
       "\n",
       "    alcohol  \n",
       "0 -0.585364  \n",
       "1 -0.585364  \n",
       "2 -0.585364  \n",
       "3 -0.960824  \n",
       "4 -0.960824  "
      ]
     },
     "execution_count": 29,
     "metadata": {},
     "output_type": "execute_result"
    }
   ],
   "source": [
    "# convert those results into a dataframe\n",
    "scaled_df = pd.DataFrame(scaled_results, columns=features)\n",
    "scaled_df.head()"
   ]
  },
  {
   "cell_type": "code",
   "execution_count": 30,
   "id": "c7e88c1c-261c-4505-b38c-cbb69daf82ff",
   "metadata": {},
   "outputs": [
    {
     "data": {
      "text/html": [
       "<div>\n",
       "<style scoped>\n",
       "    .dataframe tbody tr th:only-of-type {\n",
       "        vertical-align: middle;\n",
       "    }\n",
       "\n",
       "    .dataframe tbody tr th {\n",
       "        vertical-align: top;\n",
       "    }\n",
       "\n",
       "    .dataframe thead th {\n",
       "        text-align: right;\n",
       "    }\n",
       "</style>\n",
       "<table border=\"1\" class=\"dataframe\">\n",
       "  <thead>\n",
       "    <tr style=\"text-align: right;\">\n",
       "      <th></th>\n",
       "      <th>quality</th>\n",
       "      <th>fixed acidity</th>\n",
       "      <th>volatile acidity</th>\n",
       "      <th>citric acid</th>\n",
       "      <th>residual sugar</th>\n",
       "      <th>chlorides</th>\n",
       "      <th>free sulfur dioxide</th>\n",
       "      <th>total sulfur dioxide</th>\n",
       "      <th>density</th>\n",
       "      <th>pH</th>\n",
       "      <th>sulphates</th>\n",
       "      <th>alcohol</th>\n",
       "    </tr>\n",
       "  </thead>\n",
       "  <tbody>\n",
       "    <tr>\n",
       "      <th>249</th>\n",
       "      <td>6.0</td>\n",
       "      <td>1.424392</td>\n",
       "      <td>-1.160356</td>\n",
       "      <td>0.867332</td>\n",
       "      <td>-0.666180</td>\n",
       "      <td>-0.520005</td>\n",
       "      <td>0.011667</td>\n",
       "      <td>-0.288066</td>\n",
       "      <td>0.929433</td>\n",
       "      <td>-0.589663</td>\n",
       "      <td>0.718569</td>\n",
       "      <td>-0.397634</td>\n",
       "    </tr>\n",
       "    <tr>\n",
       "      <th>424</th>\n",
       "      <td>7.0</td>\n",
       "      <td>-0.988092</td>\n",
       "      <td>1.744545</td>\n",
       "      <td>-1.238655</td>\n",
       "      <td>-0.169669</td>\n",
       "      <td>-0.604994</td>\n",
       "      <td>1.541385</td>\n",
       "      <td>0.046343</td>\n",
       "      <td>-0.819235</td>\n",
       "      <td>1.354523</td>\n",
       "      <td>-0.579449</td>\n",
       "      <td>1.761261</td>\n",
       "    </tr>\n",
       "    <tr>\n",
       "      <th>1374</th>\n",
       "      <td>5.0</td>\n",
       "      <td>-0.643451</td>\n",
       "      <td>0.180368</td>\n",
       "      <td>-0.057248</td>\n",
       "      <td>-0.382459</td>\n",
       "      <td>-0.095055</td>\n",
       "      <td>-0.275155</td>\n",
       "      <td>1.627186</td>\n",
       "      <td>-0.469502</td>\n",
       "      <td>-0.330439</td>\n",
       "      <td>-0.815452</td>\n",
       "      <td>-0.491499</td>\n",
       "    </tr>\n",
       "    <tr>\n",
       "      <th>929</th>\n",
       "      <td>5.0</td>\n",
       "      <td>-0.988092</td>\n",
       "      <td>0.459685</td>\n",
       "      <td>-1.341386</td>\n",
       "      <td>-0.453389</td>\n",
       "      <td>-0.158798</td>\n",
       "      <td>-0.753192</td>\n",
       "      <td>-0.652876</td>\n",
       "      <td>0.378338</td>\n",
       "      <td>2.456228</td>\n",
       "      <td>0.423565</td>\n",
       "      <td>0.071691</td>\n",
       "    </tr>\n",
       "    <tr>\n",
       "      <th>1021</th>\n",
       "      <td>6.0</td>\n",
       "      <td>-0.758331</td>\n",
       "      <td>-0.098950</td>\n",
       "      <td>-0.930462</td>\n",
       "      <td>-0.311529</td>\n",
       "      <td>-0.541252</td>\n",
       "      <td>-1.135622</td>\n",
       "      <td>-1.139289</td>\n",
       "      <td>-0.480100</td>\n",
       "      <td>0.252817</td>\n",
       "      <td>-0.697450</td>\n",
       "      <td>0.071691</td>\n",
       "    </tr>\n",
       "    <tr>\n",
       "      <th>...</th>\n",
       "      <td>...</td>\n",
       "      <td>...</td>\n",
       "      <td>...</td>\n",
       "      <td>...</td>\n",
       "      <td>...</td>\n",
       "      <td>...</td>\n",
       "      <td>...</td>\n",
       "      <td>...</td>\n",
       "      <td>...</td>\n",
       "      <td>...</td>\n",
       "      <td>...</td>\n",
       "      <td>...</td>\n",
       "    </tr>\n",
       "    <tr>\n",
       "      <th>839</th>\n",
       "      <td>7.0</td>\n",
       "      <td>1.596712</td>\n",
       "      <td>-0.601721</td>\n",
       "      <td>1.021428</td>\n",
       "      <td>0.078587</td>\n",
       "      <td>-0.052560</td>\n",
       "      <td>-0.657585</td>\n",
       "      <td>-0.379268</td>\n",
       "      <td>0.325348</td>\n",
       "      <td>-0.460051</td>\n",
       "      <td>0.659569</td>\n",
       "      <td>1.573531</td>\n",
       "    </tr>\n",
       "    <tr>\n",
       "      <th>1196</th>\n",
       "      <td>6.0</td>\n",
       "      <td>-0.356251</td>\n",
       "      <td>0.236231</td>\n",
       "      <td>-0.314075</td>\n",
       "      <td>-0.737110</td>\n",
       "      <td>-0.392520</td>\n",
       "      <td>-1.135622</td>\n",
       "      <td>-1.139289</td>\n",
       "      <td>-1.147773</td>\n",
       "      <td>-0.978501</td>\n",
       "      <td>-0.697450</td>\n",
       "      <td>-0.585364</td>\n",
       "    </tr>\n",
       "    <tr>\n",
       "      <th>1321</th>\n",
       "      <td>5.0</td>\n",
       "      <td>0.447911</td>\n",
       "      <td>-1.048629</td>\n",
       "      <td>0.764601</td>\n",
       "      <td>-0.524319</td>\n",
       "      <td>-0.626242</td>\n",
       "      <td>-0.657585</td>\n",
       "      <td>-0.865682</td>\n",
       "      <td>-1.497507</td>\n",
       "      <td>-0.848888</td>\n",
       "      <td>-0.638449</td>\n",
       "      <td>0.916476</td>\n",
       "    </tr>\n",
       "    <tr>\n",
       "      <th>544</th>\n",
       "      <td>6.0</td>\n",
       "      <td>0.447911</td>\n",
       "      <td>-0.322404</td>\n",
       "      <td>1.124159</td>\n",
       "      <td>0.043122</td>\n",
       "      <td>0.138667</td>\n",
       "      <td>2.115029</td>\n",
       "      <td>1.809591</td>\n",
       "      <td>0.770463</td>\n",
       "      <td>-1.496950</td>\n",
       "      <td>-0.402446</td>\n",
       "      <td>-1.242419</td>\n",
       "    </tr>\n",
       "    <tr>\n",
       "      <th>1335</th>\n",
       "      <td>5.0</td>\n",
       "      <td>-1.332732</td>\n",
       "      <td>-0.154813</td>\n",
       "      <td>-1.392752</td>\n",
       "      <td>-0.808040</td>\n",
       "      <td>-0.647489</td>\n",
       "      <td>-0.083941</td>\n",
       "      <td>-0.622475</td>\n",
       "      <td>-1.200763</td>\n",
       "      <td>0.317623</td>\n",
       "      <td>-1.228458</td>\n",
       "      <td>-0.866959</td>\n",
       "    </tr>\n",
       "  </tbody>\n",
       "</table>\n",
       "<p>100 rows × 12 columns</p>\n",
       "</div>"
      ],
      "text/plain": [
       "      quality  fixed acidity  volatile acidity  citric acid  residual sugar  \\\n",
       "249       6.0       1.424392         -1.160356     0.867332       -0.666180   \n",
       "424       7.0      -0.988092          1.744545    -1.238655       -0.169669   \n",
       "1374      5.0      -0.643451          0.180368    -0.057248       -0.382459   \n",
       "929       5.0      -0.988092          0.459685    -1.341386       -0.453389   \n",
       "1021      6.0      -0.758331         -0.098950    -0.930462       -0.311529   \n",
       "...       ...            ...               ...          ...             ...   \n",
       "839       7.0       1.596712         -0.601721     1.021428        0.078587   \n",
       "1196      6.0      -0.356251          0.236231    -0.314075       -0.737110   \n",
       "1321      5.0       0.447911         -1.048629     0.764601       -0.524319   \n",
       "544       6.0       0.447911         -0.322404     1.124159        0.043122   \n",
       "1335      5.0      -1.332732         -0.154813    -1.392752       -0.808040   \n",
       "\n",
       "      chlorides  free sulfur dioxide  total sulfur dioxide   density  \\\n",
       "249   -0.520005             0.011667             -0.288066  0.929433   \n",
       "424   -0.604994             1.541385              0.046343 -0.819235   \n",
       "1374  -0.095055            -0.275155              1.627186 -0.469502   \n",
       "929   -0.158798            -0.753192             -0.652876  0.378338   \n",
       "1021  -0.541252            -1.135622             -1.139289 -0.480100   \n",
       "...         ...                  ...                   ...       ...   \n",
       "839   -0.052560            -0.657585             -0.379268  0.325348   \n",
       "1196  -0.392520            -1.135622             -1.139289 -1.147773   \n",
       "1321  -0.626242            -0.657585             -0.865682 -1.497507   \n",
       "544    0.138667             2.115029              1.809591  0.770463   \n",
       "1335  -0.647489            -0.083941             -0.622475 -1.200763   \n",
       "\n",
       "            pH  sulphates   alcohol  \n",
       "249  -0.589663   0.718569 -0.397634  \n",
       "424   1.354523  -0.579449  1.761261  \n",
       "1374 -0.330439  -0.815452 -0.491499  \n",
       "929   2.456228   0.423565  0.071691  \n",
       "1021  0.252817  -0.697450  0.071691  \n",
       "...        ...        ...       ...  \n",
       "839  -0.460051   0.659569  1.573531  \n",
       "1196 -0.978501  -0.697450 -0.585364  \n",
       "1321 -0.848888  -0.638449  0.916476  \n",
       "544  -1.496950  -0.402446 -1.242419  \n",
       "1335  0.317623  -1.228458 -0.866959  \n",
       "\n",
       "[100 rows x 12 columns]"
      ]
     },
     "execution_count": 30,
     "metadata": {},
     "output_type": "execute_result"
    }
   ],
   "source": [
    "#Drop original columns and merge scaled df\n",
    "df = df.drop(features, axis=1)\n",
    "df = pd.concat([df, scaled_df], axis=1)\n",
    "df.sample(100)"
   ]
  },
  {
   "cell_type": "code",
   "execution_count": 31,
   "id": "48057b5a-d4a4-4eb5-9a14-1704b98dc914",
   "metadata": {},
   "outputs": [],
   "source": [
    "df.dropna(axis=0,how='any',inplace=True)"
   ]
  },
  {
   "cell_type": "markdown",
   "id": "724b8bb8-86f1-48d2-bba4-5be9cd4062b0",
   "metadata": {},
   "source": [
    "### Model Building"
   ]
  },
  {
   "cell_type": "code",
   "execution_count": 32,
   "id": "50e55ae2-bf39-43da-afc0-bd40e80fb08e",
   "metadata": {},
   "outputs": [
    {
     "name": "stdout",
     "output_type": "stream",
     "text": [
      "(1597,) (1597, 11)\n"
     ]
    }
   ],
   "source": [
    "# Declare features and target\n",
    "features = [\"fixed acidity\", \"volatile acidity\",\"citric acid\", \"residual sugar\",\"chlorides\",\"free sulfur dioxide\",\"total sulfur dioxide\",\"density\",\"pH\",\"sulphates\",\"alcohol\"]\n",
    "y = df[\"quality\"]\n",
    "X = df[features]\n",
    "print(y.shape, X.shape)"
   ]
  },
  {
   "cell_type": "code",
   "execution_count": 33,
   "id": "dc1d2b9c-06a0-4358-87c5-63c80388a50c",
   "metadata": {},
   "outputs": [
    {
     "name": "stdout",
     "output_type": "stream",
     "text": [
      "(1277, 11)\n",
      "(1277,)\n",
      "(320, 11)\n",
      "(320,)\n"
     ]
    }
   ],
   "source": [
    "# Split data in test & train\n",
    "X_train, X_test, y_train, y_test = train_test_split(X, y,\n",
    "                                                    test_size=.2,\n",
    "                                                    random_state=24)\n",
    "print(X_train.shape)\n",
    "print(y_train.shape)\n",
    "print(X_test.shape)\n",
    "print(y_test.shape)"
   ]
  },
  {
   "cell_type": "markdown",
   "id": "f19e1f0c-683b-4123-bc79-7c00e150e9eb",
   "metadata": {},
   "source": [
    "### Select & Train a model"
   ]
  },
  {
   "cell_type": "code",
   "execution_count": 34,
   "id": "0ba7ecac-75d5-4bee-bbfb-c0c0f3a48a4d",
   "metadata": {},
   "outputs": [],
   "source": [
    "lin_reg = LinearRegression()"
   ]
  },
  {
   "cell_type": "code",
   "execution_count": 35,
   "id": "26f7b23f-4a7e-469d-99ef-64226d66e75a",
   "metadata": {},
   "outputs": [
    {
     "data": {
      "text/html": [
       "<style>#sk-container-id-3 {color: black;background-color: white;}#sk-container-id-3 pre{padding: 0;}#sk-container-id-3 div.sk-toggleable {background-color: white;}#sk-container-id-3 label.sk-toggleable__label {cursor: pointer;display: block;width: 100%;margin-bottom: 0;padding: 0.3em;box-sizing: border-box;text-align: center;}#sk-container-id-3 label.sk-toggleable__label-arrow:before {content: \"▸\";float: left;margin-right: 0.25em;color: #696969;}#sk-container-id-3 label.sk-toggleable__label-arrow:hover:before {color: black;}#sk-container-id-3 div.sk-estimator:hover label.sk-toggleable__label-arrow:before {color: black;}#sk-container-id-3 div.sk-toggleable__content {max-height: 0;max-width: 0;overflow: hidden;text-align: left;background-color: #f0f8ff;}#sk-container-id-3 div.sk-toggleable__content pre {margin: 0.2em;color: black;border-radius: 0.25em;background-color: #f0f8ff;}#sk-container-id-3 input.sk-toggleable__control:checked~div.sk-toggleable__content {max-height: 200px;max-width: 100%;overflow: auto;}#sk-container-id-3 input.sk-toggleable__control:checked~label.sk-toggleable__label-arrow:before {content: \"▾\";}#sk-container-id-3 div.sk-estimator input.sk-toggleable__control:checked~label.sk-toggleable__label {background-color: #d4ebff;}#sk-container-id-3 div.sk-label input.sk-toggleable__control:checked~label.sk-toggleable__label {background-color: #d4ebff;}#sk-container-id-3 input.sk-hidden--visually {border: 0;clip: rect(1px 1px 1px 1px);clip: rect(1px, 1px, 1px, 1px);height: 1px;margin: -1px;overflow: hidden;padding: 0;position: absolute;width: 1px;}#sk-container-id-3 div.sk-estimator {font-family: monospace;background-color: #f0f8ff;border: 1px dotted black;border-radius: 0.25em;box-sizing: border-box;margin-bottom: 0.5em;}#sk-container-id-3 div.sk-estimator:hover {background-color: #d4ebff;}#sk-container-id-3 div.sk-parallel-item::after {content: \"\";width: 100%;border-bottom: 1px solid gray;flex-grow: 1;}#sk-container-id-3 div.sk-label:hover label.sk-toggleable__label {background-color: #d4ebff;}#sk-container-id-3 div.sk-serial::before {content: \"\";position: absolute;border-left: 1px solid gray;box-sizing: border-box;top: 0;bottom: 0;left: 50%;z-index: 0;}#sk-container-id-3 div.sk-serial {display: flex;flex-direction: column;align-items: center;background-color: white;padding-right: 0.2em;padding-left: 0.2em;position: relative;}#sk-container-id-3 div.sk-item {position: relative;z-index: 1;}#sk-container-id-3 div.sk-parallel {display: flex;align-items: stretch;justify-content: center;background-color: white;position: relative;}#sk-container-id-3 div.sk-item::before, #sk-container-id-3 div.sk-parallel-item::before {content: \"\";position: absolute;border-left: 1px solid gray;box-sizing: border-box;top: 0;bottom: 0;left: 50%;z-index: -1;}#sk-container-id-3 div.sk-parallel-item {display: flex;flex-direction: column;z-index: 1;position: relative;background-color: white;}#sk-container-id-3 div.sk-parallel-item:first-child::after {align-self: flex-end;width: 50%;}#sk-container-id-3 div.sk-parallel-item:last-child::after {align-self: flex-start;width: 50%;}#sk-container-id-3 div.sk-parallel-item:only-child::after {width: 0;}#sk-container-id-3 div.sk-dashed-wrapped {border: 1px dashed gray;margin: 0 0.4em 0.5em 0.4em;box-sizing: border-box;padding-bottom: 0.4em;background-color: white;}#sk-container-id-3 div.sk-label label {font-family: monospace;font-weight: bold;display: inline-block;line-height: 1.2em;}#sk-container-id-3 div.sk-label-container {text-align: center;}#sk-container-id-3 div.sk-container {/* jupyter's `normalize.less` sets `[hidden] { display: none; }` but bootstrap.min.css set `[hidden] { display: none !important; }` so we also need the `!important` here to be able to override the default hidden behavior on the sphinx rendered scikit-learn.org. See: https://github.com/scikit-learn/scikit-learn/issues/21755 */display: inline-block !important;position: relative;}#sk-container-id-3 div.sk-text-repr-fallback {display: none;}</style><div id=\"sk-container-id-3\" class=\"sk-top-container\"><div class=\"sk-text-repr-fallback\"><pre>LinearRegression()</pre><b>In a Jupyter environment, please rerun this cell to show the HTML representation or trust the notebook. <br />On GitHub, the HTML representation is unable to render, please try loading this page with nbviewer.org.</b></div><div class=\"sk-container\" hidden><div class=\"sk-item\"><div class=\"sk-estimator sk-toggleable\"><input class=\"sk-toggleable__control sk-hidden--visually\" id=\"sk-estimator-id-3\" type=\"checkbox\" checked><label for=\"sk-estimator-id-3\" class=\"sk-toggleable__label sk-toggleable__label-arrow\">LinearRegression</label><div class=\"sk-toggleable__content\"><pre>LinearRegression()</pre></div></div></div></div></div>"
      ],
      "text/plain": [
       "LinearRegression()"
      ]
     },
     "execution_count": 35,
     "metadata": {},
     "output_type": "execute_result"
    }
   ],
   "source": [
    "lin_reg.fit(X_train, y_train)"
   ]
  },
  {
   "cell_type": "code",
   "execution_count": 36,
   "id": "c87a466c-2590-44db-b23a-cd8f94feeaf9",
   "metadata": {},
   "outputs": [
    {
     "data": {
      "text/plain": [
       "5.631767340310181"
      ]
     },
     "execution_count": 36,
     "metadata": {},
     "output_type": "execute_result"
    }
   ],
   "source": [
    "#Show intercept\n",
    "lin_reg.intercept_"
   ]
  },
  {
   "cell_type": "code",
   "execution_count": 37,
   "id": "8dc1625d-d70b-4871-9f95-84577b2057e4",
   "metadata": {},
   "outputs": [
    {
     "data": {
      "text/plain": [
       "array([ 0.00951148, -0.00628911,  0.01698842,  0.01163478, -0.08599193,\n",
       "        0.06095813, -0.08661272,  0.02152065, -0.09451154,  0.02498955,\n",
       "        0.09190466])"
      ]
     },
     "execution_count": 37,
     "metadata": {},
     "output_type": "execute_result"
    }
   ],
   "source": [
    "lin_reg.coef_"
   ]
  },
  {
   "cell_type": "code",
   "execution_count": 38,
   "id": "407b593c-700a-4839-bae1-51201c968bb3",
   "metadata": {},
   "outputs": [
    {
     "data": {
      "text/html": [
       "<div>\n",
       "<style scoped>\n",
       "    .dataframe tbody tr th:only-of-type {\n",
       "        vertical-align: middle;\n",
       "    }\n",
       "\n",
       "    .dataframe tbody tr th {\n",
       "        vertical-align: top;\n",
       "    }\n",
       "\n",
       "    .dataframe thead th {\n",
       "        text-align: right;\n",
       "    }\n",
       "</style>\n",
       "<table border=\"1\" class=\"dataframe\">\n",
       "  <thead>\n",
       "    <tr style=\"text-align: right;\">\n",
       "      <th></th>\n",
       "      <th>coefficients</th>\n",
       "    </tr>\n",
       "  </thead>\n",
       "  <tbody>\n",
       "    <tr>\n",
       "      <th>intercept</th>\n",
       "      <td>5</td>\n",
       "    </tr>\n",
       "    <tr>\n",
       "      <th>fixed acidity</th>\n",
       "      <td>0</td>\n",
       "    </tr>\n",
       "    <tr>\n",
       "      <th>volatile acidity</th>\n",
       "      <td>0</td>\n",
       "    </tr>\n",
       "    <tr>\n",
       "      <th>citric acid</th>\n",
       "      <td>0</td>\n",
       "    </tr>\n",
       "    <tr>\n",
       "      <th>residual sugar</th>\n",
       "      <td>0</td>\n",
       "    </tr>\n",
       "    <tr>\n",
       "      <th>chlorides</th>\n",
       "      <td>0</td>\n",
       "    </tr>\n",
       "    <tr>\n",
       "      <th>free sulfur dioxide</th>\n",
       "      <td>0</td>\n",
       "    </tr>\n",
       "    <tr>\n",
       "      <th>total sulfur dioxide</th>\n",
       "      <td>0</td>\n",
       "    </tr>\n",
       "    <tr>\n",
       "      <th>density</th>\n",
       "      <td>0</td>\n",
       "    </tr>\n",
       "    <tr>\n",
       "      <th>pH</th>\n",
       "      <td>0</td>\n",
       "    </tr>\n",
       "    <tr>\n",
       "      <th>sulphates</th>\n",
       "      <td>0</td>\n",
       "    </tr>\n",
       "    <tr>\n",
       "      <th>alcohol</th>\n",
       "      <td>0</td>\n",
       "    </tr>\n",
       "  </tbody>\n",
       "</table>\n",
       "</div>"
      ],
      "text/plain": [
       "                      coefficients\n",
       "intercept                        5\n",
       "fixed acidity                    0\n",
       "volatile acidity                 0\n",
       "citric acid                      0\n",
       "residual sugar                   0\n",
       "chlorides                        0\n",
       "free sulfur dioxide              0\n",
       "total sulfur dioxide             0\n",
       "density                          0\n",
       "pH                               0\n",
       "sulphates                        0\n",
       "alcohol                          0"
      ]
     },
     "execution_count": 38,
     "metadata": {},
     "output_type": "execute_result"
    }
   ],
   "source": [
    "# Display intercept and coefficients as a dataframe\n",
    "cols=list(X_train.columns)\n",
    "coefs=list(lin_reg.coef_)\n",
    "coefs=[int(x) for x in coefs]\n",
    "# add the intercept\n",
    "cols.insert(0, \"intercept\")\n",
    "coefs.insert(0, int(lin_reg.intercept_))\n",
    "# combine into a dataframe\n",
    "regression_components = pd.DataFrame(coefs, cols, columns=['coefficients'])\n",
    "regression_components "
   ]
  },
  {
   "cell_type": "code",
   "execution_count": 39,
   "id": "69d577dd-f242-4650-b148-d575bf88890c",
   "metadata": {},
   "outputs": [
    {
     "name": "stdout",
     "output_type": "stream",
     "text": [
      "Regression Equation:  \n",
      " y =  5.63 + \n",
      "                5*intercept + \n",
      "                0*fixed acidity + \n",
      "                0*volatile acidity + \n",
      "                0*citric acid + \n",
      "                0*residual sugar + \n",
      "                0*chlorides + \n",
      "                0*free sulfur dioxide + \n",
      "                0*total sulfur dioxide + \n",
      "                0*density +\n",
      "                0*pH + \n",
      "                0*sulphates + \n",
      "                0*alcohol \n",
      "                \n"
     ]
    }
   ],
   "source": [
    "# what is the equation for this model?\n",
    "\n",
    "xcoefs = [(coefs[i], cols[i]) for i in range(0, len(cols))]\n",
    "\n",
    "output = f\"\"\"y =  {round(lin_reg.intercept_,2)} + \n",
    "                {round(xcoefs[0][0],2)}*{xcoefs[0][1]} + \n",
    "                {round(xcoefs[1][0],2)}*{xcoefs[1][1]} + \n",
    "                {round(xcoefs[2][0],2)}*{xcoefs[2][1]} + \n",
    "                {round(xcoefs[3][0],2)}*{xcoefs[3][1]} + \n",
    "                {round(xcoefs[4][0],2)}*{xcoefs[4][1]} + \n",
    "                {round(xcoefs[5][0],2)}*{xcoefs[5][1]} + \n",
    "                {round(xcoefs[6][0],2)}*{xcoefs[6][1]} + \n",
    "                {round(xcoefs[7][0],2)}*{xcoefs[7][1]} + \n",
    "                {round(xcoefs[8][0],2)}*{xcoefs[8][1]} +\n",
    "                {round(xcoefs[9][0],2)}*{xcoefs[9][1]} + \n",
    "                {round(xcoefs[10][0],2)}*{xcoefs[10][1]} + \n",
    "                {round(xcoefs[11][0],2)}*{xcoefs[11][1]} \n",
    "                \"\"\"\n",
    "print(\"Regression Equation: \", \"\\n\", output)  "
   ]
  },
  {
   "cell_type": "markdown",
   "id": "e003aefd-1945-4d83-964a-e659e359c610",
   "metadata": {},
   "source": [
    "### Make predictions on your testing dataset"
   ]
  },
  {
   "cell_type": "code",
   "execution_count": 40,
   "id": "42005d52-0773-4bae-83ef-cb82ad71f2b8",
   "metadata": {},
   "outputs": [],
   "source": [
    "# Make predictions\n",
    "y_preds = lin_reg.predict(X_test)"
   ]
  },
  {
   "cell_type": "code",
   "execution_count": 41,
   "id": "79071a8e-916d-496e-a359-b5909b6c8f69",
   "metadata": {},
   "outputs": [
    {
     "data": {
      "text/plain": [
       "array([5.72762292, 5.57008473, 5.59668516, 5.89999696, 5.66775045,\n",
       "       5.72622628, 5.93500053, 5.57181451, 5.44594877, 5.41583996,\n",
       "       5.5566722 , 5.41778642, 6.0061902 , 5.59201745, 5.56678011,\n",
       "       5.84346181, 5.75036445, 5.61601274, 5.51342257, 5.65621928,\n",
       "       5.57229767, 6.01183792, 5.63388539, 5.78338506, 5.85187881,\n",
       "       5.40376961, 5.82611758, 5.51782004, 5.50036624, 5.64269125,\n",
       "       5.52343166, 5.53584552, 5.46729218, 5.75036445, 5.23174193,\n",
       "       5.8978602 , 5.61037715, 5.59394825, 5.47229743, 5.36565534,\n",
       "       5.70416168, 5.90069166, 6.0922821 , 5.52457185, 5.7551369 ,\n",
       "       5.60044826, 5.12095342, 6.02706913, 5.18523312, 5.72318531,\n",
       "       5.88385172, 5.7625556 , 5.66358603, 5.6275114 , 5.71428708,\n",
       "       5.85862694, 5.62346272, 5.60011449, 5.4693046 , 5.59388932,\n",
       "       5.89280703, 5.69575783, 5.82609454, 5.58648929, 5.45906159,\n",
       "       5.7283262 , 5.68764971, 5.73251593, 5.77764003, 5.55595641,\n",
       "       5.98580157, 5.55751869, 5.51521995, 5.62519984, 5.95208663,\n",
       "       5.42457924, 5.68842058, 5.57034874, 5.62392222, 5.87516986,\n",
       "       5.55038848, 5.48992994, 5.78894388, 5.67156815, 5.80488685,\n",
       "       5.79633829, 5.74354572, 5.6695467 , 5.83255421, 5.58123946,\n",
       "       5.55521781, 5.82789238, 5.52764718, 5.59737973, 5.8759006 ,\n",
       "       5.37297507, 5.87687595, 5.5851118 , 5.44066894, 5.60992186,\n",
       "       5.86911367, 5.35197231, 5.56117044, 5.59072682, 5.53135075,\n",
       "       5.68282931, 5.28577779, 5.31015869, 5.54439777, 5.71428708,\n",
       "       5.83711895, 5.91322308, 5.57329701, 5.55002416, 5.80095323,\n",
       "       5.82179585, 5.4256121 , 5.64490675, 5.50581603, 5.54186029,\n",
       "       5.58880987, 5.72704545, 5.48211811, 5.62223648, 5.3099038 ,\n",
       "       5.62797553, 5.55212199, 5.79251371, 5.61433544, 5.74902399,\n",
       "       5.97674686, 5.46790858, 5.44282162, 5.6087155 , 5.64199535,\n",
       "       5.83403789, 5.66974126, 5.59105768, 5.53244228, 5.54379407,\n",
       "       5.66386266, 5.51606892, 5.83188158, 5.50569927, 5.48436516,\n",
       "       5.92614258, 5.50880173, 5.63224118, 5.333621  , 5.90689532,\n",
       "       5.57752257, 5.93856392, 5.67555225, 5.97853231, 5.7791822 ,\n",
       "       5.41411329, 5.60586401, 5.67641454, 5.54276593, 5.6727628 ,\n",
       "       5.74754134, 5.52291202, 5.27895464, 5.80638852, 5.54885365,\n",
       "       5.57424525, 5.9078532 , 5.64109525, 5.10703892, 5.47558129,\n",
       "       5.69293206, 5.56515132, 5.41320131, 5.60749937, 5.5976509 ,\n",
       "       5.76064416, 5.85453347, 5.87143486, 5.54713976, 5.58405022,\n",
       "       5.88586111, 5.91753932, 5.63102667, 5.80950561, 5.35453862,\n",
       "       6.03465848, 5.40274191, 5.83402973, 5.34513648, 5.71183995,\n",
       "       5.51687873, 5.52524252, 5.82345729, 5.56807059, 5.47839374,\n",
       "       5.76326655, 5.65549707, 5.57122409, 5.60034247, 5.7592478 ,\n",
       "       5.52055596, 5.42795073, 5.50842636, 5.20482276, 5.88037842,\n",
       "       5.58160775, 5.39382099, 5.72493969, 5.84801066, 5.56005906,\n",
       "       5.33641884, 5.75648573, 5.85738342, 5.56680779, 5.52286698,\n",
       "       5.58597367, 5.44430787, 5.46677237, 5.90272508, 5.62392222,\n",
       "       5.53937821, 5.62365323, 5.80872575, 5.60044902, 5.782124  ,\n",
       "       5.67588175, 5.40767776, 5.5221615 , 5.35471876, 5.4762105 ,\n",
       "       5.85957639, 5.63924738, 5.4862031 , 5.49679519, 5.37516201,\n",
       "       5.75948216, 5.54933795, 5.59417773, 5.51966522, 5.58317276,\n",
       "       5.69604489, 5.49215126, 5.48001408, 5.92231799, 5.72988747,\n",
       "       5.64165059, 5.81868153, 5.73989081, 5.67102918, 5.72884703,\n",
       "       5.47756729, 5.57358201, 5.39574445, 5.75575356, 5.61879742,\n",
       "       5.90559364, 5.41097727, 5.54748808, 5.8538399 , 5.72704545,\n",
       "       5.69604489, 5.45190472, 5.53520491, 5.57734006, 6.02485431,\n",
       "       5.8364613 , 5.63315872, 5.56595761, 5.71615597, 5.42474308,\n",
       "       5.52881199, 5.56302679, 5.77194333, 5.75180773, 5.91516378,\n",
       "       5.50568794, 5.49765365, 5.48920013, 5.5031003 , 5.86561283,\n",
       "       5.81487913, 5.45349539, 5.95989998, 5.59404502, 5.67819153,\n",
       "       5.6235025 , 5.64181851, 5.57882115, 5.63906406, 5.62693099,\n",
       "       5.61580612, 5.45497393, 5.84766515, 5.5214006 , 5.58359955,\n",
       "       5.58057162, 5.72740083, 5.68484392, 5.97749021, 5.47218127,\n",
       "       5.59225013, 5.62284187, 5.46737344, 5.7303134 , 5.45284492,\n",
       "       5.58648929, 5.6045741 , 5.50947848, 5.57734006, 5.2927941 ,\n",
       "       5.74884124, 5.63047599, 5.46492878, 5.65993786, 5.65621928,\n",
       "       5.88368575, 5.7241206 , 5.77102503, 5.47633852, 5.48111856])"
      ]
     },
     "execution_count": 41,
     "metadata": {},
     "output_type": "execute_result"
    }
   ],
   "source": [
    "y_preds"
   ]
  },
  {
   "cell_type": "code",
   "execution_count": 42,
   "id": "20f848d2-babe-4a3b-b997-2f8097b89127",
   "metadata": {},
   "outputs": [
    {
     "name": "stdout",
     "output_type": "stream",
     "text": [
      "true values: [4.0, 6.0, 5.0, 6.0, 6.0]\n",
      "predicted values: [5.7, 5.6, 5.6, 5.9, 5.7]\n"
     ]
    }
   ],
   "source": [
    "# How do the first five predictions compare to the first five actual values?\n",
    "true_5=list(round(y_test[:5], 1))\n",
    "pred_5=[round(x,1) for x in list(y_preds[:5])]\n",
    "print('true values:', true_5)\n",
    "print('predicted values:', pred_5)"
   ]
  },
  {
   "cell_type": "code",
   "execution_count": 43,
   "id": "6e0af1b8-b450-41c5-a50f-30026ca2ae23",
   "metadata": {},
   "outputs": [
    {
     "name": "stdout",
     "output_type": "stream",
     "text": [
      "Index(['fixed acidity', 'volatile acidity', 'citric acid', 'residual sugar',\n",
      "       'chlorides', 'free sulfur dioxide', 'total sulfur dioxide', 'density',\n",
      "       'pH', 'sulphates', 'alcohol'],\n",
      "      dtype='object')\n",
      "[ 0.00951148 -0.00628911  0.01698842  0.01163478 -0.08599193  0.06095813\n",
      " -0.08661272  0.02152065 -0.09451154  0.02498955  0.09190466]\n"
     ]
    }
   ],
   "source": [
    "# 'Attributes' is another name for our list of features (aka predictors, independent variables)\n",
    "attributes=X_test.columns\n",
    "print(attributes)\n",
    "# 'Feature importances' is another name for our coefficients (ie., the impace of each feature on the outcome or DV)\n",
    "feature_importances=lin_reg.coef_\n",
    "print(feature_importances)"
   ]
  },
  {
   "cell_type": "code",
   "execution_count": 44,
   "id": "6bbeb00b-2360-464f-81d7-a80b78591ade",
   "metadata": {},
   "outputs": [
    {
     "data": {
      "text/html": [
       "<div>\n",
       "<style scoped>\n",
       "    .dataframe tbody tr th:only-of-type {\n",
       "        vertical-align: middle;\n",
       "    }\n",
       "\n",
       "    .dataframe tbody tr th {\n",
       "        vertical-align: top;\n",
       "    }\n",
       "\n",
       "    .dataframe thead th {\n",
       "        text-align: right;\n",
       "    }\n",
       "</style>\n",
       "<table border=\"1\" class=\"dataframe\">\n",
       "  <thead>\n",
       "    <tr style=\"text-align: right;\">\n",
       "      <th></th>\n",
       "      <th>coeffs</th>\n",
       "    </tr>\n",
       "    <tr>\n",
       "      <th>features</th>\n",
       "      <th></th>\n",
       "    </tr>\n",
       "  </thead>\n",
       "  <tbody>\n",
       "    <tr>\n",
       "      <th>pH</th>\n",
       "      <td>-0.094512</td>\n",
       "    </tr>\n",
       "    <tr>\n",
       "      <th>total sulfur dioxide</th>\n",
       "      <td>-0.086613</td>\n",
       "    </tr>\n",
       "    <tr>\n",
       "      <th>chlorides</th>\n",
       "      <td>-0.085992</td>\n",
       "    </tr>\n",
       "    <tr>\n",
       "      <th>volatile acidity</th>\n",
       "      <td>-0.006289</td>\n",
       "    </tr>\n",
       "    <tr>\n",
       "      <th>fixed acidity</th>\n",
       "      <td>0.009511</td>\n",
       "    </tr>\n",
       "    <tr>\n",
       "      <th>residual sugar</th>\n",
       "      <td>0.011635</td>\n",
       "    </tr>\n",
       "    <tr>\n",
       "      <th>citric acid</th>\n",
       "      <td>0.016988</td>\n",
       "    </tr>\n",
       "    <tr>\n",
       "      <th>density</th>\n",
       "      <td>0.021521</td>\n",
       "    </tr>\n",
       "    <tr>\n",
       "      <th>sulphates</th>\n",
       "      <td>0.024990</td>\n",
       "    </tr>\n",
       "    <tr>\n",
       "      <th>free sulfur dioxide</th>\n",
       "      <td>0.060958</td>\n",
       "    </tr>\n",
       "    <tr>\n",
       "      <th>alcohol</th>\n",
       "      <td>0.091905</td>\n",
       "    </tr>\n",
       "  </tbody>\n",
       "</table>\n",
       "</div>"
      ],
      "text/plain": [
       "                        coeffs\n",
       "features                      \n",
       "pH                   -0.094512\n",
       "total sulfur dioxide -0.086613\n",
       "chlorides            -0.085992\n",
       "volatile acidity     -0.006289\n",
       "fixed acidity         0.009511\n",
       "residual sugar        0.011635\n",
       "citric acid           0.016988\n",
       "density               0.021521\n",
       "sulphates             0.024990\n",
       "free sulfur dioxide   0.060958\n",
       "alcohol               0.091905"
      ]
     },
     "execution_count": 44,
     "metadata": {},
     "output_type": "execute_result"
    }
   ],
   "source": [
    "# let's take a look at the results\n",
    "feature_imp = pd.DataFrame(list(zip(attributes, feature_importances)), columns=['features', 'coeffs'])\n",
    "feature_imp=feature_imp.set_index('features')\n",
    "feature_imp=feature_imp.sort_values('coeffs')\n",
    "feature_imp"
   ]
  },
  {
   "cell_type": "code",
   "execution_count": 45,
   "id": "ba316297-e675-4edb-820f-917b9d32b13e",
   "metadata": {},
   "outputs": [
    {
     "data": {
      "image/png": "[encoded data removed]",
      "text/plain": [
       "<Figure size 432x288 with 1 Axes>"
      ]
     },
     "metadata": {
      "needs_background": "light"
     },
     "output_type": "display_data"
    }
   ],
   "source": [
    "# plot that as a bar chart\n",
    "feature_imp.plot(kind='bar');"
   ]
  },
  {
   "cell_type": "markdown",
   "id": "3e7760ba-e767-4ced-a4b9-5a91b1df62f5",
   "metadata": {},
   "source": [
    "### Evaluate your model"
   ]
  },
  {
   "cell_type": "code",
   "execution_count": 46,
   "id": "ab09d958-d587-4384-b83c-e274acff5b9b",
   "metadata": {},
   "outputs": [
    {
     "data": {
      "text/plain": [
       "0.76"
      ]
     },
     "execution_count": 46,
     "metadata": {},
     "output_type": "execute_result"
    }
   ],
   "source": [
    "# root mean squared error represents the average error (in $) of our model\n",
    "rmse = np.sqrt(metrics.mean_squared_error(y_test, y_preds))\n",
    "round(rmse,2)"
   ]
  },
  {
   "cell_type": "code",
   "execution_count": 47,
   "id": "e71da1e8-b9de-4062-9cfc-6dd64689c8f3",
   "metadata": {},
   "outputs": [
    {
     "data": {
      "text/plain": [
       "5.63"
      ]
     },
     "execution_count": 47,
     "metadata": {},
     "output_type": "execute_result"
    }
   ],
   "source": [
    "# how does this compare to the mean of our training set?\n",
    "avg_val = round(y_train.mean(),2)\n",
    "avg_val"
   ]
  },
  {
   "cell_type": "code",
   "execution_count": 48,
   "id": "0c92ffb9-e564-43c0-a00e-94ffb8a15b06",
   "metadata": {},
   "outputs": [
    {
     "name": "stdout",
     "output_type": "stream",
     "text": [
      "1\n"
     ]
    }
   ],
   "source": [
    "# If we used that as our predictor, then the average error of our model would be:\n",
    "comparison_array=np.full((len(y_test), ), avg_val)\n",
    "coin_flip=np.sqrt(metrics.mean_squared_error(y_test, comparison_array))\n",
    "print(round(coin_flip))"
   ]
  },
  {
   "cell_type": "code",
   "execution_count": 49,
   "id": "72f517eb-38a4-4fd1-b8ad-ab2d1142b6ee",
   "metadata": {},
   "outputs": [
    {
     "data": {
      "text/plain": [
       "0.01"
      ]
     },
     "execution_count": 49,
     "metadata": {},
     "output_type": "execute_result"
    }
   ],
   "source": [
    "# R-squared is another important metric\n",
    "r2=metrics.r2_score(y_test, y_preds)\n",
    "round(r2, 2)"
   ]
  },
  {
   "cell_type": "code",
   "execution_count": 51,
   "id": "27cebc5a-de95-4e0e-9645-85a71786ef10",
   "metadata": {},
   "outputs": [
    {
     "data": {
      "image/png": "[encoded data removed]",
      "text/plain": [
       "<Figure size 504x504 with 1 Axes>"
      ]
     },
     "metadata": {
      "needs_background": "light"
     },
     "output_type": "display_data"
    }
   ],
   "source": [
    "# Visualize our true vs. predicted values\n",
    "import seaborn as sns\n",
    "plt.figure(figsize=(7,7))\n",
    "plt.title('Red Wine Quality')\n",
    "plt.xlabel('True Values')\n",
    "plt.ylabel('Predicted Values')\n",
    "fig=sns.regplot(x=y_preds, y=y_test)\n",
    "plt.show(fig)"
   ]
  },
  {
   "cell_type": "code",
   "execution_count": null,
   "id": "5272ee53-ef7d-48ac-8467-949528944e8b",
   "metadata": {},
   "outputs": [],
   "source": []
  }
 ],
 "metadata": {
  "kernelspec": {
   "display_name": "default:Python",
   "language": "python",
   "name": "conda-env-default-py"
  },
  "language_info": {
   "codemirror_mode": {
    "name": "ipython",
    "version": 3
   },
   "file_extension": ".py",
   "mimetype": "text/x-python",
   "name": "python",
   "nbconvert_exporter": "python",
   "pygments_lexer": "ipython3",
   "version": "3.9.13"
  }
 },
 "nbformat": 4,
 "nbformat_minor": 5
}
